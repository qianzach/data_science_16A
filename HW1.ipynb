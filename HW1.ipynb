{
 "cells": [
  {
   "cell_type": "markdown",
   "metadata": {},
   "source": [
    "PIC 16A Homework #1\n",
    "\n",
    "By: Zachary Qian\n",
    "\n",
    "10/10/20\n",
    "\n",
    "**Note:** I checked my output and discussed our logic with Renzo Tanaka-Wong\n",
    "\n",
    "I aﬀirm that I personally wrote the text, code, and comments in this homework assignment.\n",
    "\n",
    "\n",
    "\n",
    "# Homework 1\n",
    "\n",
    "This homework focuses on topics related to basic data types, collections, and iterations. For each problem, place your solution below the **Solution** headers. Refer to [Expectations for Assignments](https://nbviewer.jupyter.org/github/PhilChodrow/PIC16A/blob/master/content/preliminaries/expectations_for_assignments.ipynb) for instructions on submitting this assignment. For this assignment, it is not necessary to write docstrings for any of your code, but you should include comments and descriptions of your general approach. \n",
    "\n",
    "## Problem 1\n",
    "\n",
    "Write code which, given a list `L`, produces a dictionary `D` where: \n",
    "\n",
    "- The *keys* of `D` are the unique elements of `L` (i.e. each element of `L` appears only once). \n",
    "- The value `D[i]` is the number of times that `i` appears in list `L`. \n",
    "\n",
    "Demonstrate that your code works for lists of strings, lists of integers, and lists containing both strings and integers. (it's fine to copy and paste your code for this, although if you happen to know how to define functions then you might find that more efficient). \n",
    "\n",
    "For example: \n",
    "\n",
    "```python\n",
    "L = [\"a\", \"a\", \"b\", \"c\"]\n",
    "# your code here\n",
    "# ...\n",
    "D\n",
    "# output\n",
    "{\"a\" : 2, \"b\" : 1, \"c\" : 1}\n",
    "```"
   ]
  },
  {
   "cell_type": "markdown",
   "metadata": {},
   "source": [
    "## Solution"
   ]
  },
  {
   "cell_type": "code",
   "execution_count": 17,
   "metadata": {},
   "outputs": [
    {
     "name": "stdout",
     "output_type": "stream",
     "text": [
      "{'a': 2, 'b': 1, 'c': 1}\n",
      "{1: 1, 7: 2, 2: 1, 3: 1, 4: 1, 5: 2, 6: 5}\n",
      "{'a': 2, 'z': 1, 7: 1, 1: 2, 'b': 1, 5: 1, 6: 5}\n"
     ]
    }
   ],
   "source": [
    "#List of Strings\n",
    "L = [\"a\", \"a\", \"b\", \"c\"]\n",
    "D = {} # create a dictionary\n",
    "for i in L: #loop through the list\n",
    "    if i in D.keys(): #check if i is already in index\n",
    "        D[i] +=1 #if so, add 1 to increase counter\n",
    "    else:\n",
    "        D[i] = 1 #if not, then we add the dictionary and set it to 1 occurrence\n",
    "print(D)\n",
    "\n",
    "# List of ints\n",
    "L = [1, 7, 7, 2,3,4,5,5,6,6,6,6,6]\n",
    "D = {} # create a dictionary\n",
    "for i in L: #loop through the list\n",
    "    if i in D.keys(): #check if i is already in index\n",
    "        D[i] +=1 #if so, add 1 to increase counter\n",
    "    else:\n",
    "        D[i] = 1 #if not, then we add the dictionary and set it to 1 occurrence\n",
    "print(D)        \n",
    "\n",
    "# List of ints and strings\n",
    "L = ['a','z',7,1,'b',1,'a',5,6,6,6,6,6]\n",
    "D = {} # create a dictionary\n",
    "for i in L: #loop through the list\n",
    "    if i in D.keys(): #check if i is already in index\n",
    "        D[i] +=1 #if so, add 1 to increase counter\n",
    "    else:\n",
    "        D[i] = 1 #if not, then we add the dictionary and set it to 1 occurrence\n",
    "print(D)        \n",
    "\n",
    "\n",
    "# your code here\n",
    "\n",
    "# ...\n",
    "# output\n",
    "#{\"a\" : 2, \"b\" : 1, \"c\" : 1}"
   ]
  },
  {
   "cell_type": "markdown",
   "metadata": {},
   "source": [
    "# Problem 2\n",
    "\n",
    "The `input()` function allows you to accept typed input from a user as a string. For example, \n",
    "\n",
    "```python\n",
    "x = input(\"Please input a number.\")\n",
    "# user types 7\n",
    "x\n",
    "# output \n",
    "'7'\n",
    "```\n",
    "\n",
    "Write code that prompts a user to input an odd `int`. If the user inputs an even `int`, the code should re-prompt them for an odd integer. After the user has entered an odd integer, the code should print a list of all numbers that the user input. \n",
    "\n",
    "The code `int(\"1\")` will convert strings composed of numerals into integers. You may assume that the user will only input such strings. \n",
    "\n",
    "*Hint*: Try `while` and associated tools. \n",
    "\n",
    "### Example\n",
    "\n",
    "```python\n",
    "\n",
    "# your code\n",
    "\n",
    "> Please enter an integer.6\n",
    "> Please enter an integer.8\n",
    "> Please enter an integer.4\n",
    "> Please enter an integer.9\n",
    "> [6, 8, 4, 9]\n",
    "\n",
    "```\n",
    "\n",
    "\n",
    "## Solution"
   ]
  },
  {
   "cell_type": "code",
   "execution_count": 23,
   "metadata": {},
   "outputs": [
    {
     "name": "stdout",
     "output_type": "stream",
     "text": [
      "Please input a number.2\n",
      "Please input a number.4\n",
      "Please input a number.6\n",
      "Please input a number.8\n",
      "Please input a number.10\n",
      "Please input a number.12\n",
      "Please input a number.14\n",
      "Please input a number.13\n",
      "2\n",
      "4\n",
      "6\n",
      "8\n",
      "10\n",
      "12\n",
      "14\n",
      "13\n"
     ]
    }
   ],
   "source": [
    "l = [] #instantiate list\n",
    "x = input(\"Please input a number.\") #ask for initial input\n",
    "x = int(x) #convert to int var\n",
    "l.append(x) #add x to list\n",
    "while x%2 == 0: #loop until input = odd number\n",
    "    x = input(\"Please input a number.\") #same\n",
    "    x = int(x) \n",
    "    l.append(x)\n",
    "for i in l: #loop through the entire list and print out all the numbers that the user input\n",
    "    print(i)"
   ]
  },
  {
   "cell_type": "markdown",
   "metadata": {},
   "source": [
    "# Problem 3"
   ]
  },
  {
   "cell_type": "markdown",
   "metadata": {},
   "source": [
    "Write list comprehensions which produce the specified list. Each list comprehension should fit on one line and be no longer than 80 characters. "
   ]
  },
  {
   "cell_type": "code",
   "execution_count": 1,
   "metadata": {},
   "outputs": [],
   "source": [
    "                                                                      # 80 characters"
   ]
  },
  {
   "cell_type": "markdown",
   "metadata": {},
   "source": [
    "## (a) \n",
    "\n",
    "A list of the first 10 [triangular numbers](https://en.wikipedia.org/wiki/Triangular_number). The $i$th triangular number is the sum of the integers up to and including $i$. For example, the sixth triangular number is \n",
    "\n",
    "$$1+2+3+4+5+6 = 21\\;.$$\n",
    "\n",
    "The first element in your list should be 1, and the last one should be 55. \n",
    "\n",
    "### Solution"
   ]
  },
  {
   "cell_type": "code",
   "execution_count": 73,
   "metadata": {},
   "outputs": [
    {
     "data": {
      "text/plain": [
       "[1, 3, 6, 10, 15, 21, 28, 36, 45, 55]"
      ]
     },
     "execution_count": 73,
     "metadata": {},
     "output_type": "execute_result"
    }
   ],
   "source": [
    "[int(i*((i+1)/2)) for i in range(1,11)] #algorithm is C(n+1, 2) binomial coefficient ==> n*(n+1)/2\n",
    "#note that i casted to integers"
   ]
  },
  {
   "cell_type": "markdown",
   "metadata": {},
   "source": [
    "## (b)\n",
    "\n",
    "A list of the letters in a predefined string `s`, **except for vowels.** For example: \n",
    "\n",
    "```python\n",
    "s = \"make it so, number one\"\n",
    "# your code here\n",
    "# ...\n",
    "L\n",
    "# output\n",
    "[\"m\", \"k\", \"t\", \"s\", \"n\", \"m\", \"b\", \"r\", \"n\"]\n",
    "```\n",
    "You should also exclude spaces. It is ok to include punctuation.  \n",
    "\n",
    "*Hint:* Consider the following code: \n",
    "\n",
    "```python\n",
    "l = \"a\"\n",
    "l not in [\"e\", \"w\"]\n",
    "```\n",
    "\n",
    "### Solution"
   ]
  },
  {
   "cell_type": "code",
   "execution_count": 39,
   "metadata": {},
   "outputs": [
    {
     "data": {
      "text/plain": [
       "['m', 'k', 't', 's', 'n', 'm', 'b', 'r', 'n']"
      ]
     },
     "execution_count": 39,
     "metadata": {},
     "output_type": "execute_result"
    }
   ],
   "source": [
    "[i for i in s if i not in ['a','e','i','o','u'] and i.isalpha()] #s = \"make it so, number one\" \n",
    "# We can also do [i for i in s if i not in ['a','e','i','o','u']] if you want punctuation"
   ]
  },
  {
   "cell_type": "markdown",
   "metadata": {},
   "source": [
    "## (c)\n",
    "\n",
    "A list `L` whose elements are themselves lists. The `i`th element of `L` contains the powers of `X[i]` from `0` to `k`, where `X` is a list and `k` an integer that can be specified by the user. \n",
    "For example, \n",
    "\n",
    "```python\n",
    "X = [5, 6, 7]\n",
    "k = 2\n",
    "# your code here\n",
    "# ... \n",
    "L\n",
    "# output\n",
    "[[1, 5, 25], [1, 6, 36], [1, 7, 49]]\n",
    "```\n",
    "\n",
    "### Solution"
   ]
  },
  {
   "cell_type": "code",
   "execution_count": 46,
   "metadata": {},
   "outputs": [
    {
     "data": {
      "text/plain": [
       "[[1, 5, 25], [1, 6, 36], [1, 7, 49], [1, 8, 64], [1, 9, 81]]"
      ]
     },
     "execution_count": 46,
     "metadata": {},
     "output_type": "execute_result"
    }
   ],
   "source": [
    "X = [5, 6, 7,8,9] #given a list X\n",
    "k = 2 # and some coefficient k\n",
    "L = [[i**j for j in range(0,k+1)] for i in X] \n",
    "#multiple each element in X by the jth power where j in [0,k] and compartmentalize in a list for each element\n",
    "L"
   ]
  },
  {
   "cell_type": "markdown",
   "metadata": {},
   "source": [
    "## (d)\n",
    "\n",
    "\n",
    "As in **(c)**, but now include only even powers of `X`. For example, \n",
    "\n",
    "```python\n",
    "X = [5, 6, 7]\n",
    "k = 8\n",
    "# your code here\n",
    "# ...\n",
    "L\n",
    "# output\n",
    "[[1, 25, 625, 15625, 390625],\n",
    " [1, 36, 1296, 46656, 1679616],\n",
    " [1, 49, 2401, 117649, 5764801]]\n",
    "```\n",
    "\n",
    "### Solution"
   ]
  },
  {
   "cell_type": "code",
   "execution_count": 47,
   "metadata": {},
   "outputs": [
    {
     "data": {
      "text/plain": [
       "[[1, 25, 625, 15625, 390625],\n",
       " [1, 36, 1296, 46656, 1679616],\n",
       " [1, 49, 2401, 117649, 5764801]]"
      ]
     },
     "execution_count": 47,
     "metadata": {},
     "output_type": "execute_result"
    }
   ],
   "source": [
    "X = [5, 6, 7]\n",
    "k = 8\n",
    "\n",
    "L = [[i**j for j in range(0,k+1) if j %2==0] for i in X]\n",
    "\n",
    "\n",
    "L"
   ]
  },
  {
   "cell_type": "markdown",
   "metadata": {},
   "source": [
    "# Problem 4\n",
    "\n",
    "In this problem, we'll simulate the *simple random walk*, perhaps the most important discrete-time stochastic process. Random walks are commonly used to model phenomena in physics and chemistry, biology, and finance. In the simple random walk, at each timestep we flip a fair coin. If heads, we move foward one step; if tails, we move backwards. Let \"forwards\" be represented by positive integers, and \"backwards\" be represented by negative integers. For example, if we are currently three steps backwards from the starting point, our position is `-3`. \n",
    "\n",
    "Write code to simulate a random walk. Your code should: \n",
    "\n",
    "- Specify an upper and lower bound -- once the walk reaches one of these two numbers, the process terminates. \n",
    "- Keep a log of the results of the coin flips. \n",
    "- Keep a log of the position of the walk at each time step. \n",
    "- When the walk reaches the upper or lower bound, print a message and terminate the walk. \n",
    "\n",
    "To simulate a coin flip, run the following code once: \n",
    "\n",
    "```python \n",
    "import random\n",
    "```\n",
    "\n",
    "Then, you can let `x` be the value of a fairly flipped coin by writing:\n",
    "\n",
    "```python\n",
    "x = random.choice([1,-1])\n",
    "```\n",
    "\n",
    "In this case, code such as `position += x` will correctly change the position according to the result of the coin flip. \n",
    "\n",
    "**Your code should include at least one instance of an `elif` statement and at least one instance of a `break` statement**. \n",
    "\n",
    "## Example Output\n",
    "\n",
    "\n",
    "```python\n",
    "import random\n",
    "\n",
    "upper_bound = 3\n",
    "lower_bound = -3\n",
    "\n",
    "# your code here\n",
    "# ...\n",
    "\n",
    "# message\n",
    "Upper bound at 3 reached\n",
    "\n",
    "positions # this is the list storing the history of the walk\n",
    "# output\n",
    "[1, 2, 1, 2, 1, 0, 1, 2, 3]\n",
    "```\n",
    "\n",
    "Finally, you might be interested in visualizing the walk. After your main code, run the following two lines to produce a plot. When the bounds are set very large, the resulting visualization can be quite intriguing and attractive. The visualization shows an example with upper and lower bounds at -500 and 500, respectively. "
   ]
  },
  {
   "cell_type": "code",
   "execution_count": 70,
   "metadata": {},
   "outputs": [
    {
     "name": "stdout",
     "output_type": "stream",
     "text": [
      "4 3\n"
     ]
    }
   ],
   "source": [
    "#from matplotlib import pyplot as plt\n",
    "#plt.plot(positions)\n"
   ]
  },
  {
   "cell_type": "markdown",
   "metadata": {},
   "source": [
    "## Solution"
   ]
  },
  {
   "cell_type": "code",
   "execution_count": 67,
   "metadata": {},
   "outputs": [
    {
     "name": "stdout",
     "output_type": "stream",
     "text": [
      "Walk continuing\n",
      "Walk continuing\n",
      "Walk continuing\n",
      "Walk continuing\n",
      "Walk continuing\n",
      "Walk continuing\n",
      "Walk continuing\n",
      "Walk continuing\n",
      "Walk continuing\n",
      "Walk continuing\n",
      "Walk continuing\n",
      "Walk continuing\n",
      "Walk continuing\n",
      "Walk continuing\n",
      "Walk continuing\n",
      "Walk continuing\n",
      "Walk continuing\n",
      "Walk continuing\n",
      "Walk continuing\n",
      "Walk continuing\n",
      "Bound of random walk reached at -3\n",
      "[1, -1, -1, -1, 1, 1, 1, 1, -1, -1, -1, 1, 1, 1, -1, -1, 1, -1, -1, -1, -1]\n",
      "[1, 0, -1, -2, -1, 0, 1, 2, 1, 0, -1, 0, 1, 2, 1, 0, 1, 0, -1, -2, -3]\n"
     ]
    }
   ],
   "source": [
    "#Write code to simulate a random walk. Your code should: \n",
    "\n",
    "#- Specify an upper and lower bound -- once the walk reaches one of these two numbers, the process terminates. \n",
    "#- Keep a log of the results of the coin flips. \n",
    "#- Keep a log of the position of the walk at each time step. \n",
    "#- When the walk reaches the upper or lower bound, print a message and terminate the walk. \n",
    "import random\n",
    "\n",
    "upper_bound = 3\n",
    "lower_bound = -3\n",
    "flip_log = [] #coin flip log\n",
    "pos_log = [] # position of the walk log\n",
    "x = -99999999 #set to dummy number\n",
    "position = 0 #start at 0\n",
    "while position != 3 or position != -3: #loop until the bound is reached\n",
    "    x = random.choice([1,-1])\n",
    "    flip_log.append(x)\n",
    "    position += x\n",
    "    pos_log.append(position)\n",
    "    if position == 3:\n",
    "        print(\"Bound of random walk reached at\", position)\n",
    "        print(flip_log)\n",
    "        print(pos_log)\n",
    "        break\n",
    "    elif position == -3:\n",
    "        print(\"Bound of random walk reached at\", position)\n",
    "        print(flip_log)\n",
    "        print(pos_log)\n",
    "        break\n",
    "    else:\n",
    "        print(\"Walk continuing\")\n",
    "\n",
    "    \n",
    "\n"
   ]
  },
  {
   "cell_type": "code",
   "execution_count": 68,
   "metadata": {},
   "outputs": [
    {
     "data": {
      "text/plain": [
       "[<matplotlib.lines.Line2D at 0x7fd8d47ee340>]"
      ]
     },
     "execution_count": 68,
     "metadata": {},
     "output_type": "execute_result"
    },
    {
     "data": {
      "image/png": "[encoded data removed]",
      "text/plain": [
       "<Figure size 432x288 with 1 Axes>"
      ]
     },
     "metadata": {
      "needs_background": "light"
     },
     "output_type": "display_data"
    }
   ],
   "source": [
    "from matplotlib import pyplot as plt\n",
    "plt.plot(pos_log)"
   ]
  }
 ],
 "metadata": {
  "kernelspec": {
   "display_name": "Python 3",
   "language": "python",
   "name": "python3"
  },
  "language_info": {
   "codemirror_mode": {
    "name": "ipython",
    "version": 3
   },
   "file_extension": ".py",
   "mimetype": "text/x-python",
   "name": "python",
   "nbconvert_exporter": "python",
   "pygments_lexer": "ipython3",
   "version": "3.8.3"
  }
 },
 "nbformat": 4,
 "nbformat_minor": 4
}
