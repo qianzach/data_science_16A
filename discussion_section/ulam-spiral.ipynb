{
 "cells": [
  {
   "cell_type": "markdown",
   "metadata": {},
   "source": [
    "# Group: Zachary Qian\n",
    "\n",
    "**Note: I affirm that I personally wrote the text, code, and comments in this in-class assignment.**\n",
    "\n",
    "\n",
    "# Discussion Activity: Ulam Spirals\n",
    "\n",
    "An Ulam spiral is a graphical depiction of the set of prime numbers with intriguing geometrical patterns. This depiction was created by the famous mathematician Stanisław Ulam. Ulam is better known for several of his other creations, including the design of the hydrogen bomb and the Monte Carlo method for simulating complex processes. \n",
    "\n",
    "To create an Ulam spiral, start by arranging the integers in spiral grid: <br><br>\n",
    "\n",
    "<figure class=\"image\" style=\"width:30%\">\n",
    "  <img src=\"https://upload.wikimedia.org/wikipedia/commons/thumb/1/1d/Ulam_spiral_howto_all_numbers.svg/1024px-Ulam_spiral_howto_all_numbers.svg.png\" alt=\"The integers 1 through 49 arranged in a spiral, with 1 at the center, 2 immediately to the right of 1, 3 above 2, 4 to the right of 3 (above 1), and so on.\">\n",
    "  <figcaption><i>Spiral arrangement of the integers. Image credit: Wikipedia.</i></figcaption>\n",
    "</figure>\n",
    "\n",
    "Then, color all the cells with prime numbers in black, and all the cells with composite numbers in white. Here's the result for a large grid: <br> <br> \n",
    "\n",
    "<figure class=\"image\" style=\"width:50%\">\n",
    "  <img src=\"https://upload.wikimedia.org/wikipedia/commons/6/69/Ulam_1.png\" alt=\"A 200x200 grid in which dots corresponding to prime numbers are colored black. There are several diagonal and vertical lines with high densities of black dots.\">\n",
    "  <figcaption><i>A 200x200 Ulam spiral. Image credit: Wikipedia.</i></figcaption>\n",
    "</figure>\n",
    "\n",
    "Note several diagonal, horizontal, and vertical lines with high densities of black dots. These geometrical structures remain only partially understood, and are connected to several important open problems in the theory of prime numbers. \n",
    "\n",
    "## What We'll Do\n",
    "\n",
    "In this discussion activity, we will write a generator which supports \"spiral\" iteration: \n",
    "\n",
    "```python\n",
    "for i, j, k in spiral(5):\n",
    "    print(i,j,k)\n",
    "    \n",
    "2 2 1\n",
    "3 2 2\n",
    "3 1 3\n",
    "2 1 4\n",
    "1 1 5\n",
    "#...\n",
    "```\n",
    "The first two numbers give the **coordinates** of a square, while the third number gives the integer corresponding to that square. For example, the number `1` corresponds to `(2,2)`, the number `4` corresponds to `(2,1)`, and so on. \n",
    "\n",
    "We start at `(2,2)` because this is the middle of a `5x5` grid. \n",
    "\n",
    "Take a moment to compare to the first diagram to convince yourself that the sample output shown above does indeed correspond to the spiral pattern shown. "
   ]
  },
  {
   "cell_type": "markdown",
   "metadata": {},
   "source": [
    "### Part (A)\n",
    "\n",
    "Create a grid `G`, represented as a list of `n` lists, each of which contains `n` entries equal to `0`. This can be done in a single line using a double list comprehension. Start with `n = 5`. \n",
    "\n",
    "#### Your solution"
   ]
  },
  {
   "cell_type": "code",
   "execution_count": 26,
   "metadata": {},
   "outputs": [],
   "source": [
    "#[[0 if i in range(7,20) else 0 for i in range(1,7)] j for j in range(0,6)]\n",
    "G = [[0 for i in range(6)] for i in range(6)]"
   ]
  },
  {
   "cell_type": "markdown",
   "metadata": {},
   "source": [
    "### Part (B)\n",
    "\n",
    "We are now going to implement the `spiral()` generator. If you investigate the first diagram in this assignment, you'll observe that, after starting in the middle, \n",
    "\n",
    "1. We take **one** step right, then turn left (so now we are facing up). We take **one** step up, then turn left again (so now we are facing left). \n",
    "2. Then, we take **two** steps left, then turn left (so now we are facing down). We then take **two** steps down, then turn left (so now we are facing right). \n",
    "3. Then, we take **three** steps...\n",
    "\n",
    "So, our approach is to implement this behavior. \n",
    "\n",
    "1. `spiral()` should accept a single argument `n`, an odd integer. Check that `n` is an integer, and raise a `TypeError` if not. Then, check that `n` is *odd*, and raise a `ValueError` if not. \n",
    "1. Start with a variable  `pos = (m,m)`, where `m = int((n-1)/2)` is the midpoint of the grid. Additionally, initialize a variable `k = 1` to log the current integer, and a `direction` tuple with `(0,1)` indicating the direction we are facing. Finally, initialize a `length` variable with value `1`. \n",
    "2. **Main loop:**\n",
    "    1. As long as `k <= n**2 - 1`\n",
    "        1. Do the following twice (that is, do i and ii, then do i and ii again). \n",
    "            1. Take a number of steps equal to `length`. In a step, we add the current `direction` to the current position `pos` entrywise. After each step, if `k <= n**2`, yield `(pos[0], pos[1], k)`, then increment `k` by one. \n",
    "            2. Change direction by making a left turn. You can do so by replacing `direction` with its value in the supplied `left_turns` dictionary. \n",
    "        2. Increment length by 1. \n",
    "\n",
    "This is the \"main part\" of the activity, so it's ok to spend some extra time here. \n",
    "\n",
    "#### Your solution"
   ]
  },
  {
   "cell_type": "code",
   "execution_count": 27,
   "metadata": {},
   "outputs": [],
   "source": [
    "left_turns = {\n",
    "        ( 1,  0) : ( 0,  1),\n",
    "        ( 0,  1) : (-1,  0),\n",
    "        (-1,  0) : ( 0, -1),\n",
    "        ( 0, -1) : ( 1,  0)\n",
    "    }\n",
    "\n",
    "def spiral(n):\n",
    "    \"\"\"\n",
    "    spiral() function that generates the spiraling motion for ulam spiral\n",
    "    \"\"\"\n",
    "    \n",
    "    # Step 1:\n",
    "    # check that n is an integer, and raise a TypeError if not. \n",
    "    if type(n) != int:\n",
    "        raise TypeError(\"spiral() accepts only integer parameter values.\")\n",
    "        \n",
    "    \n",
    "    # if the user supplies an even value of n, raise an informative ValueError. \n",
    "    elif n %2 == 0:\n",
    "        raise ValueError(\"spiral() function only accepts odd integers.\")\n",
    "    \n",
    "    \n",
    "    # Step 2: \n",
    "    # initialize variables described in instructions above.\n",
    "    m = int((n-1)/2)\n",
    "    pos = (m,m)\n",
    "    k = 1 #log current integer\n",
    "    direction = (0,1)\n",
    "    length = 1\n",
    "    \n",
    "\n",
    "    \n",
    "    # Step 3: \n",
    "    # main loop, refer to instructions above\n",
    "    while k <= n**2 - 1:\n",
    "        pos += direction\n",
    "        if k <= n**2:\n",
    "            yield(pos[0],pos[1],k)\n",
    "            k+=1\n",
    "        pos += direction\n",
    "        if k <= n**2:\n",
    "            yield(pos[0],pos[1],k)\n",
    "            k+=1\n",
    "        direction = left_turns[direction]\n",
    "        length +=1\n",
    "    \n",
    "    \n",
    "    "
   ]
  },
  {
   "cell_type": "markdown",
   "metadata": {},
   "source": [
    "### Part (C)\n",
    "\n",
    "Check your code by running (`shift + enter`) the following lines. When your code is correct, you'll see a spiral from 1-25 that matches the diagram at the beginning of the activity, like this: \n",
    "\n",
    "```\n",
    "[[17, 16, 15, 14, 13],\n",
    " [18,  5,  4,  3, 12],\n",
    " [19,  6,  1,  2, 11],\n",
    " [20,  7,  8,  9, 10],\n",
    " [21, 22, 23, 24, 25]]\n",
    "```\n"
   ]
  },
  {
   "cell_type": "code",
   "execution_count": 28,
   "metadata": {},
   "outputs": [
    {
     "data": {
      "text/plain": [
       "[[0, 0, 0, 0, 0, 0],\n",
       " [0, 0, 0, 0, 0, 0],\n",
       " [0, 0, 0, 0, 0, 0],\n",
       " [0, 0, 0, 0, 0, 0],\n",
       " [0, 0, 0, 0, 0, 0],\n",
       " [0, 0, 0, 0, 0, 120]]"
      ]
     },
     "execution_count": 28,
     "metadata": {},
     "output_type": "execute_result"
    }
   ],
   "source": [
    "for i, j, k  in spiral(11):\n",
    "    G[i][j] = k\n",
    "G"
   ]
  },
  {
   "cell_type": "markdown",
   "metadata": {},
   "source": [
    "### Part (D)\n",
    "\n",
    "Here's the solution code for our prime number checker from last week. Run this code. Yes, all you need to do for this part is `shift + enter`. "
   ]
  },
  {
   "cell_type": "code",
   "execution_count": null,
   "metadata": {},
   "outputs": [],
   "source": [
    "import math\n",
    "\n",
    "def create_prime_checker():\n",
    "    \"\"\"\n",
    "    Return a function prime_checker() which takes a single argument n. \n",
    "    prime_checker() stores a list of known primes. If n is in the list of known primes, \n",
    "    then prime_checker() returns true. \n",
    "    Otherwise, prime_checker() will first check whether n is divisible by one of the known primes, returning False if so. \n",
    "    If not, prime_checker() will then check whether n is divisible by any number between the largest known prime and \n",
    "    math.sqrt(n), returning False if so. \n",
    "    If not, then n is added to the list of known primes and True is returned. \n",
    "    \"\"\"\n",
    "    \n",
    "    d = [2]\n",
    "    \n",
    "    def prime_checker(n, verbose = False):\n",
    "            \n",
    "        # if verbose == True, print the list of known primes (this is primarily for your debugging)\n",
    "        \n",
    "        if n == 1:\n",
    "            return False\n",
    "        \n",
    "        if verbose:\n",
    "            print(\"Known primes: \", end = \"\")\n",
    "            print(d)\n",
    "        \n",
    "        # first, check whether n is in the list of known primes, and act appropriately. \n",
    "\n",
    "        if n in d:\n",
    "            return True\n",
    "        \n",
    "        # next, check whether any of the known primes divide n, and act appropriately. \n",
    "        \n",
    "        for possible_factor in d:\n",
    "            if n % possible_factor == 0:\n",
    "                return False\n",
    "        \n",
    "        # next, check possible factors up to and include math.sqrt(n), and act appropriately. \n",
    "        # the below works because possible_factor is now a variable (because of the for-loop)\n",
    "        \n",
    "        while possible_factor <= math.sqrt(n):\n",
    "            if n % possible_factor == 0:\n",
    "                return False\n",
    "            possible_factor += 1\n",
    "        \n",
    "        # If no factors found, add n to the list of known primes and return the appropriate value. \n",
    "        \n",
    "        d.append(n)\n",
    "        return True\n",
    "        \n",
    "    return prime_checker"
   ]
  },
  {
   "cell_type": "markdown",
   "metadata": {},
   "source": [
    "### Part (E) \n",
    "\n",
    "Create a new grid `G` like you did in Part (A), this time using `n = 101`, and initialize a `prime_checker()` function. To do so, just do `shift + enter` on the block below. "
   ]
  },
  {
   "cell_type": "code",
   "execution_count": null,
   "metadata": {},
   "outputs": [],
   "source": [
    "prime_checker = create_prime_checker()\n",
    "\n",
    "n = 101\n",
    "G = [[0 for i in range(n)] for j in range(n)]"
   ]
  },
  {
   "cell_type": "markdown",
   "metadata": {},
   "source": [
    "Then, iterate through the grid using the `spiral` generator. You should mark a `1` in the cell corresponding to `k` if `k` is prime. The code should look similar to the supplied code from Part (C). \n",
    "\n",
    "#### Your solution"
   ]
  },
  {
   "cell_type": "code",
   "execution_count": 2,
   "metadata": {},
   "outputs": [],
   "source": [
    "import numpy as np\n",
    "A = np.array([[9, 8, 4],\n",
    "           [6, 2, 2], \n",
    "           [7, 7, 5], \n",
    "           [0, 1, 4]])\n",
    "\n"
   ]
  },
  {
   "cell_type": "code",
   "execution_count": 6,
   "metadata": {},
   "outputs": [
    {
     "ename": "IndexError",
     "evalue": "index 3 is out of bounds for axis 1 with size 3",
     "output_type": "error",
     "traceback": [
      "\u001b[0;31m---------------------------------------------------------------------------\u001b[0m",
      "\u001b[0;31mIndexError\u001b[0m                                Traceback (most recent call last)",
      "\u001b[0;32m<ipython-input-6-4972a0aa685a>\u001b[0m in \u001b[0;36m<module>\u001b[0;34m\u001b[0m\n\u001b[1;32m      1\u001b[0m \u001b[0mA\u001b[0m\u001b[0;34m[\u001b[0m\u001b[0;36m3\u001b[0m\u001b[0;34m:\u001b[0m\u001b[0;34m,\u001b[0m\u001b[0;34m]\u001b[0m\u001b[0;34m\u001b[0m\u001b[0;34m\u001b[0m\u001b[0m\n\u001b[1;32m      2\u001b[0m \u001b[0mA\u001b[0m\u001b[0;34m[\u001b[0m\u001b[0;34m:\u001b[0m\u001b[0;34m,\u001b[0m\u001b[0;36m1\u001b[0m\u001b[0;34m]\u001b[0m\u001b[0;34m\u001b[0m\u001b[0;34m\u001b[0m\u001b[0m\n\u001b[0;32m----> 3\u001b[0;31m \u001b[0mA\u001b[0m\u001b[0;34m[\u001b[0m\u001b[0;36m2\u001b[0m\u001b[0;34m,\u001b[0m\u001b[0;36m3\u001b[0m\u001b[0;34m]\u001b[0m\u001b[0;34m\u001b[0m\u001b[0;34m\u001b[0m\u001b[0m\n\u001b[0m",
      "\u001b[0;31mIndexError\u001b[0m: index 3 is out of bounds for axis 1 with size 3"
     ]
    }
   ],
   "source": [
    "A[3:,]\n",
    "A[:,1]\n",
    "A[2,3]"
   ]
  },
  {
   "cell_type": "code",
   "execution_count": 19,
   "metadata": {},
   "outputs": [
    {
     "data": {
      "text/plain": [
       "array([0, 1, 2])"
      ]
     },
     "execution_count": 19,
     "metadata": {},
     "output_type": "execute_result"
    }
   ],
   "source": [
    "a = np.arange(3)\n",
    "a"
   ]
  },
  {
   "cell_type": "code",
   "execution_count": 20,
   "metadata": {},
   "outputs": [
    {
     "data": {
      "text/plain": [
       "array([2, 2, 2])"
      ]
     },
     "execution_count": 20,
     "metadata": {},
     "output_type": "execute_result"
    }
   ],
   "source": [
    "a = (a + 2) - a\n",
    "a"
   ]
  },
  {
   "cell_type": "code",
   "execution_count": 18,
   "metadata": {},
   "outputs": [
    {
     "data": {
      "text/plain": [
       "array([2, 2, 2])"
      ]
     },
     "execution_count": 18,
     "metadata": {},
     "output_type": "execute_result"
    }
   ],
   "source": [
    "a = np.array([2, 2, 2])\n",
    "a"
   ]
  },
  {
   "cell_type": "code",
   "execution_count": 14,
   "metadata": {},
   "outputs": [
    {
     "data": {
      "text/plain": [
       "array([2, 2, 2])"
      ]
     },
     "execution_count": 14,
     "metadata": {},
     "output_type": "execute_result"
    }
   ],
   "source": [
    "a[0] += 2\n",
    "\n",
    "a[1] += 1\n",
    "a"
   ]
  },
  {
   "cell_type": "code",
   "execution_count": 12,
   "metadata": {},
   "outputs": [
    {
     "data": {
      "text/plain": [
       "array([2, 2, 2])"
      ]
     },
     "execution_count": 12,
     "metadata": {},
     "output_type": "execute_result"
    }
   ],
   "source": [
    "a[a < 2] = 2\n",
    "a"
   ]
  },
  {
   "cell_type": "markdown",
   "metadata": {},
   "source": [
    "Finally, plot the result by running (`shift + enter`) the following code block. "
   ]
  },
  {
   "cell_type": "code",
   "execution_count": null,
   "metadata": {},
   "outputs": [],
   "source": [
    "plt.imshow(G, cmap = \"Greys\", vmin = 0)\n",
    "plt.gca().axis('off')"
   ]
  },
  {
   "cell_type": "markdown",
   "metadata": {},
   "source": [
    "### Part (F)\n",
    "\n",
    "Add some further comments to your code in Part (B), and turn in the assignment."
   ]
  }
 ],
 "metadata": {
  "kernelspec": {
   "display_name": "Python 3",
   "language": "python",
   "name": "python3"
  },
  "language_info": {
   "codemirror_mode": {
    "name": "ipython",
    "version": 3
   },
   "file_extension": ".py",
   "mimetype": "text/x-python",
   "name": "python",
   "nbconvert_exporter": "python",
   "pygments_lexer": "ipython3",
   "version": "3.8.3"
  }
 },
 "nbformat": 4,
 "nbformat_minor": 4
}
