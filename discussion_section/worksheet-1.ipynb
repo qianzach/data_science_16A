{
 "cells": [
  {
   "cell_type": "markdown",
   "metadata": {},
   "source": [
    "# Getting acquainted with Python and Jupyter"
   ]
  },
  {
   "cell_type": "markdown",
   "metadata": {},
   "source": [
    "Always read the instructions at the top (if any), because I try not to write anything that wastes your time.\n",
    "\n",
    "This worksheet is meant to be a gentle first discussion section activity. The point is to get you oriented with your groups,  with Jupyter notebooks, and with the introductory content of the Monday lectures (numbers, strings, lists) without weighing you down with having to write any complex code. Problem 1 will illustrate some very important theory, which can otherwise remain hidden when you write code until you run into problems, so make sure that you understand it well.\n",
    "\n",
    "Don't rush through this worksheet and copypaste everything I wrote into the code cells -- just read it and type it in yourself, because that will help you remember the syntax. Don't split up the worksheets and do the parts independently -- this would miss the point, which is to teach you enough for the exams in a sequential manner. Working through them productively (in a way that makes you learn something) is more important than finishing every problem."
   ]
  },
  {
   "cell_type": "markdown",
   "metadata": {},
   "source": [
    "## Problem 1: what are variables and objects"
   ]
  },
  {
   "cell_type": "markdown",
   "metadata": {},
   "source": [
    "*a)* In the code cell below, write the three lines:\n",
    "```python\n",
    "x = 2\n",
    "x = [5]\n",
    "x = \"a\"\n",
    "```\n",
    "Print the identity of `x` after each line. Run the cell (use Ctrl+Enter on Windows, Command+Enter on Mac, or click \"Run\" in the toolbar above -- but it's best to get in the habit of using keyboard shortcuts). Try running it multiple times. Observe the output. In a few words, what does this tell you about what happens, in terms of objects and variables? Write your answer in the space below the code cell."
   ]
  },
  {
   "cell_type": "code",
   "execution_count": 5,
   "metadata": {},
   "outputs": [
    {
     "name": "stdout",
     "output_type": "stream",
     "text": [
      "4362652032\n",
      "140516764723712\n",
      "140516689946480\n"
     ]
    }
   ],
   "source": [
    "x = 2\n",
    "print(id(x))\n",
    "x = [5]\n",
    "print(id(x))\n",
    "x = \"a\"\n",
    "print(id(x))"
   ]
  },
  {
   "cell_type": "markdown",
   "metadata": {},
   "source": [
    "This tells me that we set "
   ]
  },
  {
   "cell_type": "markdown",
   "metadata": {},
   "source": [
    "*b)* Now write the three lines:\n",
    "```python\n",
    "y = [1, 2, 3]\n",
    "y[0] = 8\n",
    "y.sort()\n",
    "```\n",
    "Print the identity of `y` after each line. What does this tell you about what happens, in terms of objects and variables?"
   ]
  },
  {
   "cell_type": "code",
   "execution_count": 6,
   "metadata": {},
   "outputs": [
    {
     "name": "stdout",
     "output_type": "stream",
     "text": [
      "140516765017280\n",
      "140516765017280\n",
      "140516765017280\n"
     ]
    }
   ],
   "source": [
    "y = [1, 2, 3]\n",
    "print(id(y))\n",
    "y[0] = 8\n",
    "print(id(y))\n",
    "y.sort()\n",
    "print(id(y))"
   ]
  },
  {
   "cell_type": "markdown",
   "metadata": {},
   "source": [
    "*Double-click this text and replace it with your answer.*"
   ]
  },
  {
   "cell_type": "markdown",
   "metadata": {},
   "source": [
    "*c)* Write the four lines:\n",
    "```python\n",
    "a = 0\n",
    "b = a\n",
    "a += 1\n",
    "a += 2\n",
    "```\n",
    "After each line, print `a`, `b`, and their identities (once they've been defined). What does this tell you about what happens, in terms of objects and variables? Compare this behavior with C++."
   ]
  },
  {
   "cell_type": "code",
   "execution_count": 8,
   "metadata": {},
   "outputs": [
    {
     "name": "stdout",
     "output_type": "stream",
     "text": [
      "0 4362651968\n",
      "0 4362651968 0 4362651968\n",
      "1 4362652000 0 4362651968\n",
      "3 4362652064 0 4362651968\n"
     ]
    }
   ],
   "source": [
    "a = 0\n",
    "print(a, id(a))\n",
    "b = a\n",
    "print(a,id(a),b,id(b))\n",
    "a += 1\n",
    "print(a,id(a),b,id(b))\n",
    "\n",
    "a += 2\n",
    "print(a,id(a),b,id(b))\n"
   ]
  },
  {
   "cell_type": "markdown",
   "metadata": {},
   "source": [
    "*Double-click this text and replace it with your answer.*"
   ]
  },
  {
   "cell_type": "markdown",
   "metadata": {},
   "source": [
    "*c)* Write the four lines:\n",
    "```python\n",
    "c = [0, 1, 2]\n",
    "d = c\n",
    "c += [3]\n",
    "c += [4, 5]\n",
    "```\n",
    "After each line, print `c`, `d`, and their identities (once they've been defined). What does this tell you about what happens, in terms of objects and variables? Compare this behavior with C++. What is the difference between integers and lists that results in this behavior?"
   ]
  },
  {
   "cell_type": "code",
   "execution_count": 9,
   "metadata": {},
   "outputs": [
    {
     "name": "stdout",
     "output_type": "stream",
     "text": [
      "[0, 1, 2] 140516765062912\n",
      "[0, 1, 2] 140516765062912 [0, 1, 2] 140516765062912\n",
      "[0, 1, 2, 3] 140516765062912\n",
      "[0, 1, 2, 3, 4, 5] 140516765062912\n"
     ]
    }
   ],
   "source": [
    "c = [0, 1, 2]\n",
    "print(c, id(c))\n",
    "d = c\n",
    "print(c, id(c),d,id(d))\n",
    "c += [3]\n",
    "print(c,id(c))\n",
    "c += [4, 5]\n",
    "print(c, id(c))"
   ]
  },
  {
   "cell_type": "code",
   "execution_count": 10,
   "metadata": {},
   "outputs": [
    {
     "data": {
      "text/plain": [
       "140516765062912"
      ]
     },
     "execution_count": 10,
     "metadata": {},
     "output_type": "execute_result"
    }
   ],
   "source": [
    "c[0] = 1\n",
    "id(c)"
   ]
  },
  {
   "cell_type": "markdown",
   "metadata": {},
   "source": [
    "*Double-click this text and replace it with your answer.*"
   ]
  },
  {
   "cell_type": "markdown",
   "metadata": {},
   "source": [
    "## Problem 2: how to slice up strings and lists, and how to add and edit cells"
   ]
  },
  {
   "cell_type": "markdown",
   "metadata": {},
   "source": [
    "*a)* To add your own cells to the worksheet, first click once on the cell below which you want to add a new one, then press `b` on your keyboard. (You can also click the plus sign in the toolbar instead of pressing `b`, but keyboard shortcuts are always better.)\n",
    "\n",
    "Notice that this text is inside a cell. First add a new cell right below this one -- click *this* text, which will highlight this cell with an outline and a blue bar on the left, and then press `b` on your keyboard. Make sure your cell is a *code* cell (check the drop-down menu in the toolbar). In your cell, assign the string `\"string\"` to a new variable named `s`. Then run the cell -- use Ctrl+Enter on Windows or Command+Enter on a Mac to do it fast so that you don't spend all your time navigating the toolbar menus.\n",
    "\n",
    "For each of the following items, first guess what the output should be, and then add a new code cell, run the corresponding item inside it, and compare your guess with the output:\n",
    "\n",
    "```python\n",
    "s[2]\n",
    "s[-2]\n",
    "s[:4]\n",
    "s[4:]\n",
    "s[1:5]\n",
    "s[:]\n",
    "s[2:-1]\n",
    "s[::2]\n",
    "```\n",
    "\n",
    "Make sure you run each of these in a separate cell, and don't clear the output -- else we won't know that you did the work.\n",
    "\n",
    "Discuss in your group which of these would also work the same way if we had declared `s` to be a list (of the same length). Write your hypothesis in a new *markdown* cell below. (Markdown cells like this one don't run their contents through the Python interpreter -- they just display nicely whatever you put inside them. Use the drop-down menu in the toolbar to turn a code cell into a markdown cell. Double-click a markdown cell to edit it; Ctrl+Enter on Windows or Command+Enter on a Mac to commit changes.)"
   ]
  },
  {
   "cell_type": "code",
   "execution_count": null,
   "metadata": {},
   "outputs": [],
   "source": [
    "s[2]"
   ]
  },
  {
   "cell_type": "code",
   "execution_count": null,
   "metadata": {},
   "outputs": [],
   "source": []
  },
  {
   "cell_type": "code",
   "execution_count": null,
   "metadata": {},
   "outputs": [],
   "source": []
  },
  {
   "cell_type": "code",
   "execution_count": null,
   "metadata": {},
   "outputs": [],
   "source": []
  },
  {
   "cell_type": "markdown",
   "metadata": {},
   "source": [
    "*b)* Based on what you know about strings, what do you think will happen if you run the two lines:\n",
    "```\n",
    "s[1] = 'p'\n",
    "print(s)\n",
    "```\n",
    "Add one new cell right below this one with both lines, and run it (Ctrl+Enter on Windows or Command+Enter on a Mac) to test your hypothesis. As always, keep the output so that we see your work.\n",
    "\n",
    "Discuss in your group what would happen if we had declared `s` to be a list of the same length (for instance, the list `[1, 2, 3, 4, 5, 6]`) and ran the same code. Write your hypothesis in a new markdown cell below."
   ]
  },
  {
   "cell_type": "markdown",
   "metadata": {},
   "source": [
    "*c)* Edit the next cell to fill in the missing positive and negative index labels. (Double click to edit a markdown cell; Ctrl+Enter on Windows or Command+Enter on a Mac to commit changes.)"
   ]
  },
  {
   "cell_type": "markdown",
   "metadata": {},
   "source": [
    "```\n",
    "| s | t | r | i | n | g |\n",
    "?   ?   ?   ?   ?   ?   ?    <-- replace these question marks with positive indices\n",
    "                             <-- add negative indices on this line (use spaces to align)\n",
    "```"
   ]
  },
  {
   "cell_type": "markdown",
   "metadata": {},
   "source": [
    "## Problem 3: let's recall some useful built-in functions and learn new ones"
   ]
  },
  {
   "cell_type": "markdown",
   "metadata": {},
   "source": [
    "*a)* In the code cell below we have declared two lists. First run the code cell below (click it and press Ctrl+Enter on Windows or Command+Enter on a Mac) -- you need to run it in order for the variables to be assigned as needed."
   ]
  },
  {
   "cell_type": "code",
   "execution_count": null,
   "metadata": {},
   "outputs": [],
   "source": [
    "m1 = [0, 3, 6, 9]\n",
    "m2 = [0, 2, 4, 6]"
   ]
  },
  {
   "cell_type": "markdown",
   "metadata": {},
   "source": [
    "Make a new code cell right below this one. Inside it, define a new list that consists of two copies of `m1` followed by one copy of `m2` (do this the smart way). Using the same single code cell, do the following operations on the list, printing the list after each operation:\n",
    "\n",
    "- Sort this list\n",
    "- Reverse the resulting list\n",
    "- Throw out the first value of the list\n",
    "- Throw out the last three values of the list\n",
    "- Append the number 5 to the list\n",
    "- Replace the list with two copies of itself put together (use `=`)\n",
    "- Sort the list in reverse order (using just one function call)\n",
    "\n",
    "You can (and should) run the cell intermittently to check your work."
   ]
  },
  {
   "cell_type": "markdown",
   "metadata": {},
   "source": [
    "*b)* Run each of the following code cells in order starting with the first. For each of the cells after the first, make a markdown cell below it and guess what each of the functions called in the corresponding code cell does. (You are welcome -- and encouraged -- to edit the code cells and experiment with the functions to clarify them for yourself.) A couple of words per function (not per line of code) will suffice."
   ]
  },
  {
   "cell_type": "code",
   "execution_count": null,
   "metadata": {},
   "outputs": [],
   "source": [
    "p = ['t', 'e', 's', 't']\n",
    "q = ['a', 'b', 'c', 'd']\n",
    "r = [10, 20, 8, 17]"
   ]
  },
  {
   "cell_type": "code",
   "execution_count": null,
   "metadata": {},
   "outputs": [],
   "source": [
    "print(len(p))\n",
    "print(len(p + q))\n",
    "print(len([]))"
   ]
  },
  {
   "cell_type": "code",
   "execution_count": null,
   "metadata": {},
   "outputs": [],
   "source": [
    "t1 = ', '.join(q)\n",
    "t2 = ''.join(p)\n",
    "print(t1)\n",
    "print(t2)\n",
    "print(t1.upper())\n",
    "print(t1.upper().lower())\n",
    "print(''.join(q).split('b'))"
   ]
  },
  {
   "cell_type": "code",
   "execution_count": null,
   "metadata": {},
   "outputs": [],
   "source": [
    "print(t1.count(','))\n",
    "print(t2.count('t'))"
   ]
  },
  {
   "cell_type": "code",
   "execution_count": null,
   "metadata": {},
   "outputs": [],
   "source": [
    "print(min(p))\n",
    "print(max(q))\n",
    "print(max(r))\n",
    "print(sum(r))"
   ]
  },
  {
   "cell_type": "code",
   "execution_count": null,
   "metadata": {},
   "outputs": [],
   "source": [
    "print(range(10))\n",
    "print(list(range(10)))\n",
    "print(list(range(5,8)))\n",
    "print(list(range(10,0)))\n",
    "print(list(range(10,0,-1)))"
   ]
  },
  {
   "cell_type": "code",
   "execution_count": null,
   "metadata": {},
   "outputs": [],
   "source": [
    "print(sorted(p))\n",
    "print(list(zip(p,q,r)))\n",
    "print(list(zip(*zip(p,q,r))))"
   ]
  }
 ],
 "metadata": {
  "kernelspec": {
   "display_name": "Python 3",
   "language": "python",
   "name": "python3"
  },
  "language_info": {
   "codemirror_mode": {
    "name": "ipython",
    "version": 3
   },
   "file_extension": ".py",
   "mimetype": "text/x-python",
   "name": "python",
   "nbconvert_exporter": "python",
   "pygments_lexer": "ipython3",
   "version": "3.8.3"
  }
 },
 "nbformat": 4,
 "nbformat_minor": 4
}
