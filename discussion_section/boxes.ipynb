{
 "cells": [
  {
   "cell_type": "markdown",
   "metadata": {},
   "source": [
    "# Discussion Activity: Kittens in Boxes\n",
    "\n",
    "This is the last Discussion activity of PIC16A! Congratulations on making it through a sequence of challenging activities throughout the quarter. Take a moment to celebrate your group members and yourself for your shared achievements in this course. \n",
    "\n",
    "In this activity, we are going to draw colorful boxes around the faces of adorable kittens. \n",
    "<figure class=\"image\" style=\"width:80%\">\n",
    "  <img src=\"https://raw.githubusercontent.com/PhilChodrow/PIC16A/master/discussion/kittens_boxes_example_2.png\" alt=\"\">\n",
    "  <figcaption><i></i></figcaption>\n",
    "</figure>\n",
    "\n",
    "This *is* why you signed up for a Python programming class, right? \n",
    "\n",
    "No, this is not related to recent course content. Instead, this activity reviews several important ideas from the entire quarter. It is specifically designed to **resemble one or more problems on the exam** in certain key ways. So, while as usual you can receive full participation credit just by working through the entire period, it is especially worthwhile to complete the worksheet and review the solutions if needed.  \n",
    "\n",
    "> **You can and should complete this worksheet without writing a single `for`-loop.** \n",
    "You may find it useful to refer to a `numpy` [cheatsheet](https://s3.amazonaws.com/assets.datacamp.com/blog_assets/Numpy_Python_Cheat_Sheet.pdf), especially the section on subsetting, slicing, and indexing. \n",
    "\n",
    "## Group Names and Roles\n",
    "\n",
    "- Partner 1 (Role)\n",
    "- Partner 2 (Role)\n",
    "- Partner 3 (Role)"
   ]
  },
  {
   "cell_type": "markdown",
   "metadata": {},
   "source": [
    "## Part A\n",
    "\n",
    "Create a simple class called `abstractBox`. All this class needs to do is accept four arguments: an `x` coordinate, `y` coordinate, a width `w`, and a height `h`. You may assume all of these are integers, and do not need to be checked. \n",
    "\n",
    "The reason this class is called `abstractBox` is that we are going to use it as a so-called *abstract class.* An abstract class is a class which we intend to use only for inheritance purposes. We will never create an object of class `abstractBox`, but we will create additional classes which inherit from it. \n",
    "\n",
    "Include a docstring explaining the purpose of the class. You may choose to update this docstring after completing some of the subsequent parts. "
   ]
  },
  {
   "cell_type": "code",
   "execution_count": null,
   "metadata": {},
   "outputs": [],
   "source": [
    "# your solution here\n"
   ]
  },
  {
   "cell_type": "markdown",
   "metadata": {},
   "source": [
    "## Part B\n",
    "\n",
    "Create a class called `flatBox`, which inherits from `abstractBox`. Give this class a method called `fill()`. This method should accept a two arguments:\n",
    "\n",
    "- `m`, which may be assumed to be a 2-d `numpy` array.  \n",
    "- `v`, a float. \n",
    "\n",
    "This method should take the following rectangular region in `m`, and replace all its values with `v`: \n",
    "- The coordinates `self.x` and `self.y` define the upper-left corner. \n",
    "- The region is `h` pixels high and `w` pixels wide. \n",
    "\n",
    "For example, you should be able to use your code in the following way, to make the following attractive piece of contemporary art: \n",
    "\n",
    "```python\n",
    "m = np.zeros((100, 100))\n",
    "flatBox(75, 20, 5, 20).fill(m, 0.5)\n",
    "flatBox(4, 4, 10, 10).fill(m, 1)\n",
    "flatBox(20, 65, 40, 10).fill(m, 0.75)\n",
    "\n",
    "fig, ax = plt.subplots(1)\n",
    "ax.imshow(m, interpolation = \"none\")\n",
    "ax.axis(\"off\")\n",
    "```\n",
    "\n",
    "<figure class=\"image\" style=\"width:80%\">\n",
    "  <img src=\"https://raw.githubusercontent.com/PhilChodrow/PIC16A/master/discussion/boxes_1.png\" alt=\"\">\n",
    "  <figcaption><i></i></figcaption>\n",
    "</figure>\n",
    "\n",
    "**Hint**: Don't forget that, in a 2d `numpy` array, the first index corresponds to height and the second index corresponds to width. "
   ]
  },
  {
   "cell_type": "code",
   "execution_count": 5,
   "metadata": {},
   "outputs": [],
   "source": [
    "# your class here\n",
    "import numpy as np\n",
    "m = np.zeros((100, 100))\n",
    "m = m.fill(2)\n",
    "m"
   ]
  },
  {
   "cell_type": "code",
   "execution_count": 6,
   "metadata": {},
   "outputs": [],
   "source": [
    "m"
   ]
  },
  {
   "cell_type": "code",
   "execution_count": null,
   "metadata": {},
   "outputs": [],
   "source": [
    "# test code\n",
    "m = np.zeros((100, 100))\n",
    "flatBox(75, 20, 5, 20).fill(m, 0.5)\n",
    "flatBox(4, 4, 10, 10).fill(m, 1)\n",
    "flatBox(20, 65, 40, 10).fill(m, 0.75)\n",
    "\n",
    "fig, ax = plt.subplots(1)\n",
    "ax.imshow(m, interpolation = \"none\")\n",
    "ax.axis(\"off\")"
   ]
  },
  {
   "cell_type": "markdown",
   "metadata": {},
   "source": [
    "## Part C\n",
    "\n",
    "Add an `outline()` method to your class which will instead create a pixel-wide rectangular outline around the specified region. You can modify your code in Part B, and then run the test code here. No need to copy/paste! \n",
    "\n",
    "For example, you can make the even more remarkable masterpiece: \n",
    "\n",
    "```python\n",
    "m = np.zeros((100, 100))\n",
    "flatBox(75, 20, 5, 20).outline(m, 0.5)\n",
    "flatBox(4, 4, 10, 10).outline(m, 1)\n",
    "flatBox(20, 65, 40, 10).outline(m, 0.75)\n",
    "\n",
    "fig, ax = plt.subplots(1)\n",
    "ax.imshow(m, interpolation = \"none\")\n",
    "ax.axis(\"off\")\n",
    "```\n",
    "\n",
    "<figure class=\"image\" style=\"width:80%\">\n",
    "  <img src=\"https://raw.githubusercontent.com/PhilChodrow/PIC16A/master/discussion/boxes_2.png\" alt=\"\">\n",
    "  <figcaption><i></i></figcaption>\n",
    "</figure>\n",
    "\n",
    "**Hint:** Make a copy of the region you are going to surround using `array.copy()`. Then, fill in a region that is one pixel larger in all directions with the user specified value `v`. Finally, put the copied region \"on top of\" the fill. "
   ]
  },
  {
   "cell_type": "code",
   "execution_count": null,
   "metadata": {},
   "outputs": [],
   "source": [
    "# test code\n",
    "m = np.zeros((100, 100))\n",
    "flatBox(75, 20, 5, 20).outline(m, 0.5)\n",
    "flatBox(4, 4, 10, 10).outline(m, 1)\n",
    "flatBox(20, 65, 40, 10).outline(m, 0.75)\n",
    "\n",
    "fig, ax = plt.subplots(1)\n",
    "ax.imshow(m, interpolation = \"none\")\n",
    "ax.axis(\"off\")"
   ]
  },
  {
   "cell_type": "markdown",
   "metadata": {},
   "source": [
    "# Part D\n",
    "\n",
    "Create another class called `imageBox`. The `imageBox` class should have an `outline()` method like the `flatBox` class. (You can also implement `fill`, but this is not required). The difference is that this class should assume that the input is supplied as a numpy array of dimensions `(r, c, 3)`, where `r` and `c` give the number of rows and columns, respectively, and the final dimension stores RGB values. \n",
    "\n",
    "1. Your method should allow the user to specify the color of the border as an RGB value. For example, a value of `np.array([0.8, 0.2, 0.8])` corresponds to a pleasant shade of purple. \n",
    "2. Your method should also allow the user to specify the `thickness` of the box in pixels, allowing the user to create a thicker border. \n",
    "\n",
    "For example, consider the following image. "
   ]
  },
  {
   "cell_type": "code",
   "execution_count": null,
   "metadata": {},
   "outputs": [],
   "source": [
    "# run this block to download and show the image\n",
    "import matplotlib.image as mpimg \n",
    "url = 'https://www.pngarts.com/files/1/Kitten-PNG-Image-Background.png'\n",
    "kittens = mpimg.imread(url)\n",
    "\n",
    "# necessary to convert RGBA to RGB\n",
    "# you are not responsible for knowing \n",
    "# about why this matters\n",
    "kittens = kittens[:,:,:3]\n",
    "\n",
    "fig, ax = plt.subplots(1)\n",
    "ax.imshow(kittens, interpolation = \"nearest\")\n",
    "ax.axis(\"off\")"
   ]
  },
  {
   "cell_type": "markdown",
   "metadata": {},
   "source": [
    "Using your class, you should be able to do this: \n",
    "\n",
    "```python\n",
    "imageBox(250, 40, 10, 150).outline(kittens, \n",
    "                                   c = np.array([0.8, 0.2, 0.8]), \n",
    "                                   thickness = 5)\n",
    "\n",
    "plt.imshow(kittens, interpolation = \"nearest\")\n",
    "plt.gca().axis(\"off\")\n",
    "```\n",
    "\n",
    "<figure class=\"image\" style=\"width:80%\">\n",
    "  <img src=\"https://raw.githubusercontent.com/PhilChodrow/PIC16A/master/discussion/kittens_boxes_example.png\" alt=\"\">\n",
    "  <figcaption><i></i></figcaption>\n",
    "</figure>"
   ]
  },
  {
   "cell_type": "code",
   "execution_count": null,
   "metadata": {},
   "outputs": [],
   "source": [
    "# your class here\n"
   ]
  },
  {
   "cell_type": "code",
   "execution_count": null,
   "metadata": {},
   "outputs": [],
   "source": [
    "# test code\n",
    "\n",
    "imageBox(250, 40, 10, 150).outline(kittens, \n",
    "                                   c = np.array([0.8, 0.2, 0.8]), \n",
    "                                   thickness = 5)\n",
    "\n",
    "plt.imshow(kittens, interpolation = \"nearest\")\n",
    "plt.gca().axis(\"off\")"
   ]
  },
  {
   "cell_type": "markdown",
   "metadata": {},
   "source": [
    "## Part E\n",
    "\n",
    "Use your class to put colorful frames around the faces of the kittens. You'll probably need to experiment a bit with the placements and sizes of the boxes. Make sure not to clip their little ears!\n",
    "\n",
    "You may need to re-download the `kittens` image in order to reset from the test code in Part D. "
   ]
  },
  {
   "cell_type": "code",
   "execution_count": null,
   "metadata": {},
   "outputs": [],
   "source": [
    "# your solution here\n",
    "# don't clip their little ears!!! \n"
   ]
  }
 ],
 "metadata": {
  "kernelspec": {
   "display_name": "Python 3",
   "language": "python",
   "name": "python3"
  },
  "language_info": {
   "codemirror_mode": {
    "name": "ipython",
    "version": 3
   },
   "file_extension": ".py",
   "mimetype": "text/x-python",
   "name": "python",
   "nbconvert_exporter": "python",
   "pygments_lexer": "ipython3",
   "version": "3.8.3"
  }
 },
 "nbformat": 4,
 "nbformat_minor": 4
}
