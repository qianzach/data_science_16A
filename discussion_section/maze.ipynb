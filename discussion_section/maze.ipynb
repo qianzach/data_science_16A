{
 "cells": [
  {
   "cell_type": "markdown",
   "metadata": {},
   "source": [
    "# Group: Chris Conatzer, Ethan Matus, Zachary Qian\n",
    "\n",
    "**Note: We affirm that I personally wrote the text, code, and comments in this in-class assignment.**\n",
    "\n",
    "\n",
    "\n",
    "# Finding a path through a maze"
   ]
  },
  {
   "cell_type": "markdown",
   "metadata": {},
   "source": [
    "Let's write a program that finds a path through a maze."
   ]
  },
  {
   "attachments": {
    "maze.png": {
     "image/png": "[encoded data removed]"
    }
   },
   "cell_type": "markdown",
   "metadata": {},
   "source": [
    "![maze.png](attachment:maze.png)"
   ]
  },
  {
   "cell_type": "markdown",
   "metadata": {},
   "source": [
    "In the above maze, walls are yellow, and passable space is dark purple. We start the maze in the empty space at `(1, 0)` -- where we write the row first, followed by the column (opposite of the usual graph notation). At each step, we can move up, down, left, or right, but not diagonally. Our goal is to come out of the other side of the maze, i.e. to end up at `(7, 15)`."
   ]
  },
  {
   "cell_type": "markdown",
   "metadata": {},
   "source": [
    "Start by running the next cell."
   ]
  },
  {
   "cell_type": "code",
   "execution_count": 1,
   "metadata": {},
   "outputs": [],
   "source": [
    "from matplotlib import pyplot as plt\n",
    "import copy"
   ]
  },
  {
   "cell_type": "markdown",
   "metadata": {},
   "source": [
    "In the above two lines, we are importing the modules we'll use for our program. `pyplot` from `matplotlib` will allow us to draw a picture of our maze, just like the one above. We will explain why we need `copy` once we get there."
   ]
  },
  {
   "cell_type": "markdown",
   "metadata": {},
   "source": [
    "I have written the main routine for our program. You will write each of the functions called inside it. The calls are currently commented out so that you may uncomment them as you implement the functions, one by one. The entire working code of the program will thus be separated into self-contained functions, including the main routine (to avoid using the global scope)."
   ]
  },
  {
   "cell_type": "code",
   "execution_count": 13,
   "metadata": {
    "scrolled": true
   },
   "outputs": [
    {
     "data": {
      "image/png": "[encoded data removed]",
      "text/plain": [
       "<Figure size 432x288 with 1 Axes>"
      ]
     },
     "metadata": {
      "needs_background": "light"
     },
     "output_type": "display_data"
    }
   ],
   "source": [
    "def main():\n",
    "    maze_str = '''\n",
    "++++++++++++++++\n",
    "  +      +     +\n",
    "+ + +++ ++ +++ +\n",
    "+   + +++  + +++\n",
    "+++       ++ + +\n",
    "+ ++ +++ ++    +\n",
    "+  + + + +  ++ +\n",
    "++   +     ++   \n",
    "++++++++++++++++\n",
    "    '''\n",
    "    start = (1, 0)\n",
    "    end = (7, 15)\n",
    "    maze = build_maze(maze_str)\n",
    "    plot_maze(maze)\n",
    "    #path = solve_maze(maze, start, end)\n",
    "    #plot_maze_solution(maze, path)\n",
    "    \n",
    "\n",
    "if __name__ == '__main__':\n",
    "    main()"
   ]
  },
  {
   "cell_type": "code",
   "execution_count": 14,
   "metadata": {},
   "outputs": [
    {
     "ename": "NameError",
     "evalue": "name 'maze' is not defined",
     "output_type": "error",
     "traceback": [
      "\u001b[0;31m---------------------------------------------------------------------------\u001b[0m",
      "\u001b[0;31mNameError\u001b[0m                                 Traceback (most recent call last)",
      "\u001b[0;32m<ipython-input-14-00aa2ab1676f>\u001b[0m in \u001b[0;36m<module>\u001b[0;34m\u001b[0m\n\u001b[0;32m----> 1\u001b[0;31m \u001b[0mmaze\u001b[0m\u001b[0;34m\u001b[0m\u001b[0;34m\u001b[0m\u001b[0m\n\u001b[0m",
      "\u001b[0;31mNameError\u001b[0m: name 'maze' is not defined"
     ]
    }
   ],
   "source": []
  },
  {
   "cell_type": "markdown",
   "metadata": {},
   "source": [
    "`maze_str` is a string representation of the maze from the picture above; `+` is a wall and a single space character is passable space. Note that triple quotes are used to define a string across multiple lines. `start` and `end` are the positions for where we start and where we want to end up in the maze, as explained in the beginning."
   ]
  },
  {
   "cell_type": "markdown",
   "metadata": {},
   "source": [
    "`if __name__ == '__main__'` is an idiom that you will frequently encounter in Python. `__name__` is a special variable set by the interpreter; roughly speaking, it is set equal to the string `'__main__'` whenever your code is run directly, rather than imported as a module. In our program, this will result in running the `main` routine when you run the cell.\n",
    "\n",
    "The idea is that if you were writing this code in a Python script, somebody may want to recycle the functions that you will develop here by importing your module (but not run the `main` routine). Because of this check, the `main` routine won't run in that scenario, but the functions defined will be made available to whatever script imported your code."
   ]
  },
  {
   "cell_type": "markdown",
   "metadata": {},
   "source": [
    "In the code cell below, declare and implement the `build_maze` function. The function needs to take a string like `maze_str` in the `main` function above and turn it into a two-dimensional list of integers (list of lists of integers), where the inner lists are rows of wall or empty space, `0` is empty space, and `1` is a wall.\n",
    "\n",
    "For instance, the list `[[1, 1, 1], [1, 1, 0], [1, 1, 1]]` would represent a 3x3 block of walls with an empty space carved out in the middle right.\n",
    "\n",
    "Note: before you split the maze string across lines, you should call `.strip()` on it -- this will trim the whitespace from the ends of it.\n",
    "\n",
    "The function `build_maze` ought to take around 6 lines. Make sure to test your function (print out its output and intermediate calculations, if necessary, to see that you're getting the right results)."
   ]
  },
  {
   "cell_type": "code",
   "execution_count": 7,
   "metadata": {},
   "outputs": [
    {
     "data": {
      "text/plain": [
       "['++++++++++++++++',\n",
       " '  +      +     +',\n",
       " '+ + +++ ++ +++ +',\n",
       " '+   + +++  + +++',\n",
       " '+++       ++ + +',\n",
       " '+ ++ +++ ++    +',\n",
       " '+  + + + +  ++ +',\n",
       " '++   +     ++   ',\n",
       " '++++++++++++++++']"
      ]
     },
     "execution_count": 7,
     "metadata": {},
     "output_type": "execute_result"
    }
   ],
   "source": [
    "#k = [1, 1, 1]\n",
    "#k[:3]\n",
    "maze_str = '''\n",
    "++++++++++++++++\n",
    "  +      +     +\n",
    "+ + +++ ++ +++ +\n",
    "+   + +++  + +++\n",
    "+++       ++ + +\n",
    "+ ++ +++ ++    +\n",
    "+  + + + +  ++ +\n",
    "++   +     ++   \n",
    "++++++++++++++++\n",
    "    '''\n",
    "maze_str.strip().split(\"\\n\")"
   ]
  },
  {
   "cell_type": "code",
   "execution_count": 10,
   "metadata": {},
   "outputs": [],
   "source": [
    "def build_maze(maze_str):\n",
    "    l = []\n",
    "    big_list = []\n",
    "    new_str = maze_str.strip().split(\"\\n\")\n",
    "    for row in new_str:\n",
    "        for i in row:\n",
    "            if i == \"+\":\n",
    "                l.append(1)\n",
    "            else:\n",
    "                l.append(0)\n",
    "        big_list.append(l)\n",
    "        l = []\n",
    "    return big_list\n",
    "\n",
    "\n",
    "        \n",
    "            \n",
    "    \n",
    "    "
   ]
  },
  {
   "cell_type": "code",
   "execution_count": 11,
   "metadata": {},
   "outputs": [
    {
     "data": {
      "text/plain": [
       "[[1, 1, 1, 1, 1, 1, 1, 1, 1, 1, 1, 1, 1, 1, 1, 1],\n",
       " [0, 0, 1, 0, 0, 0, 0, 0, 0, 1, 0, 0, 0, 0, 0, 1],\n",
       " [1, 0, 1, 0, 1, 1, 1, 0, 1, 1, 0, 1, 1, 1, 0, 1],\n",
       " [1, 0, 0, 0, 1, 0, 1, 1, 1, 0, 0, 1, 0, 1, 1, 1],\n",
       " [1, 1, 1, 0, 0, 0, 0, 0, 0, 0, 1, 1, 0, 1, 0, 1],\n",
       " [1, 0, 1, 1, 0, 1, 1, 1, 0, 1, 1, 0, 0, 0, 0, 1],\n",
       " [1, 0, 0, 1, 0, 1, 0, 1, 0, 1, 0, 0, 1, 1, 0, 1],\n",
       " [1, 1, 0, 0, 0, 1, 0, 0, 0, 0, 0, 1, 1, 0, 0, 0],\n",
       " [1, 1, 1, 1, 1, 1, 1, 1, 1, 1, 1, 1, 1, 1, 1, 1]]"
      ]
     },
     "execution_count": 11,
     "metadata": {},
     "output_type": "execute_result"
    }
   ],
   "source": [
    "maze_str = '''\n",
    "++++++++++++++++\n",
    "  +      +     +\n",
    "+ + +++ ++ +++ +\n",
    "+   + +++  + +++\n",
    "+++       ++ + +\n",
    "+ ++ +++ ++    +\n",
    "+  + + + +  ++ +\n",
    "++   +     ++   \n",
    "++++++++++++++++\n",
    "    '''\n",
    "build_maze(maze_str)"
   ]
  },
  {
   "cell_type": "markdown",
   "metadata": {},
   "source": [
    "In the code cell below, I've declared and implemented the `plot_maze` function. The function takes a maze coded as a list (not string), and uses a module we imported to make a picture of the maze, just like the one above. This is just one line -- a call to `plt.imshow` with the maze object. Run the next cell."
   ]
  },
  {
   "cell_type": "code",
   "execution_count": 12,
   "metadata": {},
   "outputs": [],
   "source": [
    "def plot_maze(maze):\n",
    "    plt.imshow(maze)"
   ]
  },
  {
   "cell_type": "markdown",
   "metadata": {},
   "source": [
    "In the `main` routine above, uncomment the two function calls to `build_maze` and `plot_maze`, and run the cell. You should get a plot of the maze that is identical to the picture at the top of the page."
   ]
  },
  {
   "cell_type": "markdown",
   "metadata": {},
   "source": [
    "The function `solve_maze` takes a maze object `maze`, the starting position `start`, and the ending position `end`; and it returns a list of positions (two-integer tuples) of every square that we visit along the way from start to end. Check the `main` routine above to see how this function is called.\n",
    "\n",
    "Here's the idea for implementing `solve_maze`. Declare a list called `path` that keeps track of the path, containing only the tuple `start`. The last element of this list is your \"current position\". On a loop, replace the square in the maze at your current position with `2` -- a visited square. Then look for any adjacent square that you can move to, that has not been visited. If there are no such squares, backtrack (throw away elements from the end of the path).\n",
    "\n",
    "In the code cell below, finish writing a helper function that takes the maze and the current position and returns the location of the next square to try moving to. It should take around 5 lines."
   ]
  },
  {
   "cell_type": "code",
   "execution_count": 15,
   "metadata": {},
   "outputs": [],
   "source": [
    "def choose_valid_move(maze, pos):\n",
    "    #we need to check if last row or first row\n",
    "    # we need to check above and below locations\n",
    "    #holder = []\n",
    "    directions = [[1,0],[-1,0],[0,1], [0,-1]] #instantiate a list of directions\n",
    "    for i in directions:\n",
    "        if maze[pos[0] + i[0]][pos[1] + i[1]] == 0:\n",
    "            return (pos[0] + i[0],pos[1] + i[1])\n",
    "        \n",
    "    \n",
    "    #Check x-coord (element within each list y)\n",
    "    #if maze[pos[0]+1][pos[1]] ==0:\n",
    "    #    return\n",
    "    #Check y-coord (given list)\n",
    "    #elif\n",
    "    return None"
   ]
  },
  {
   "cell_type": "markdown",
   "metadata": {},
   "source": [
    "Using the above function, write the `solve_maze` function according to the idea above.\n",
    "\n",
    "There is only one technicality. In order to mark the spaces already visited, you have to change the `maze` object passed to the function. Because lists are mutable, this will end up changing the original copy, which we want to avoid. So we use `copy` to make a copy of the maze first. Fill in the function below. It should take around 13 lines."
   ]
  },
  {
   "cell_type": "code",
   "execution_count": null,
   "metadata": {},
   "outputs": [],
   "source": [
    "def solve_maze(maze, start, end):\n",
    "    maze = copy.deepcopy(maze)\n",
    "    #pos = start\n",
    "    path = [start]\n",
    "    while maze[pos[0]][pos[1]] != end:\n",
    "        temp = choose_valid_move(maze,path[-1]) #store last position in path list\n",
    "        if temp:\n",
    "            path.append(temp)\n",
    "        else:\n",
    "            \n",
    "    \n",
    "    \n",
    "    # add your code here"
   ]
  },
  {
   "cell_type": "markdown",
   "metadata": {},
   "source": [
    "Lastly, write the `plot_maze_solution` function in the code cell below. The function ought to take a maze and a path, and mark the squares along the path with a different value (`2` as before will work), then plot the maze. Remember to make a deep copy of the maze again, just as above, since otherwise you would be changing the original list that is passed as an argument to the function. This function ought to take around 4 lines."
   ]
  },
  {
   "cell_type": "code",
   "execution_count": null,
   "metadata": {},
   "outputs": [],
   "source": []
  },
  {
   "cell_type": "markdown",
   "metadata": {},
   "source": [
    "Run each of your code cells and the `main` routine above, with all the function calls uncommented. (You may have to comment out one of the `plot_` function calls, since you can only see one plot at a time.)\n",
    "\n",
    "Try commenting out the `copy.deepcopy` lines from your code, and run it again, showing the solution. Discuss with your group what goes wrong.\n",
    "\n",
    "Now make your own maze -- add a second maze string to the `main` routine above with a maze of your own, and run your program to solve it."
   ]
  }
 ],
 "metadata": {
  "kernelspec": {
   "display_name": "Python 3",
   "language": "python",
   "name": "python3"
  },
  "language_info": {
   "codemirror_mode": {
    "name": "ipython",
    "version": 3
   },
   "file_extension": ".py",
   "mimetype": "text/x-python",
   "name": "python",
   "nbconvert_exporter": "python",
   "pygments_lexer": "ipython3",
   "version": "3.8.3"
  }
 },
 "nbformat": 4,
 "nbformat_minor": 4
}
