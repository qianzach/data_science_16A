{
 "cells": [
  {
   "cell_type": "markdown",
   "metadata": {},
   "source": [
    "# Regular Expressions Practice\n",
    "\n",
    "### Group Members\n",
    "\n",
    "\\[Write the names of your present group members and their roles here.\\]\n",
    "\n",
    "\n",
    "## Purpose\n",
    "\n",
    "In this discussion activity, we'll the use of regular expressions to parse an HTML script of a play. Our ultimate aim will be to count the number of lines spoken by each character in the play.   \n",
    "\n",
    "While there are significant limitations to parsing HTML with regex, some discussed in [this memorable StackOverflow post](https://stackoverflow.com/questions/1732348/regex-match-open-tags-except-xhtml-self-contained-tags/1732454#1732454), for our purposes we will do just fine. \n",
    "\n",
    "## Hamlet\n",
    "\n",
    "\n",
    "<figure class=\"image\" style=\"width:50%\">\n",
    "  <img src=\"https://secure.i.telegraph.co.uk/multimedia/archive/01247/hamlet_1247654c.jpg\" alt=\"David Tennant as Hamlet, speaking to a skull.\">\n",
    "  <figcaption><i>David Tennant as Hamlet, a man of many feelings.</i></figcaption>\n",
    "</figure>\n",
    "\n",
    "William Shakespeare's *Hamlet* is a famous English play in which the characters have lots of feelings about lots of things. The original script is [here](http://shakespeare.mit.edu/hamlet/full.html). "
   ]
  },
  {
   "cell_type": "markdown",
   "metadata": {},
   "source": [
    "### (A). Read Data\n",
    "We are going to directly read HTML from the site on which the script is hosted. To load it into your computer with variable name `script`, run the following code block. You will need to be connected to the internet in order for this to work. "
   ]
  },
  {
   "cell_type": "code",
   "execution_count": 2,
   "metadata": {},
   "outputs": [
    {
     "data": {
      "text/plain": [
       "'<!DOCTYPE HTML PUBLIC \"-//W3C//DTD HTML 4.0 Transitional//EN\"\\n \"http://www.w3.org/TR/REC-html40/loose.dtd\">\\n <html>\\n <head>\\n <title>Hamlet: Entire Play\\n </title>\\n <meta http-equiv=\"Content-Type\" content=\"text/html; charset=iso-8859-1\">\\n <LINK rel=\"stylesheet\" type=\"text/css\" media=\"screen\"\\n       href=\"/shake.css\">\\n </HEAD>\\n <body bgcolor=\"#ffffff\" text=\"#000000\">\\n\\n<table width=\"100%\" bgcolor=\"#CCF6F6\">\\n<tr><td class=\"play\" align=\"center\">The Tragedy of Hamlet, Prince of Denmark\\n<tr><td class=\"nav\" align=\"center\">\\n      <a href=\"/Shakespeare\">Shakespeare homepage</A> \\n    | <A href=\"/hamlet/\">Hamlet</A> \\n    | Entire play\\n</table>\\n\\n<H3>ACT I</h3>\\n<h3>SCENE I. Elsinore. A platform before the castle.</h3>\\n<p><blockquote>\\n<i>FRANCISCO at his post. Enter to him BERNARDO</i>\\n</blockquote>\\n\\n<A NAME=speech1><b>BERNARDO</b></a>\\n<blockquote>\\n<A NAME=1.1.1>Who\\'s there?</A><br>\\n</blockquote>\\n\\n<A NAME=speech2><b>FRANCISCO</b></a>\\n<blockquote>\\n<A NAME=1.1.2>Nay, answer me: stand, and unfold yoursel'"
      ]
     },
     "execution_count": 2,
     "metadata": {},
     "output_type": "execute_result"
    }
   ],
   "source": [
    "import urllib\n",
    "\n",
    "url = \"http://shakespeare.mit.edu/hamlet/full.html\"\n",
    "\n",
    "# retrieve the data\n",
    "filedata   = urllib.request.urlopen(url)\n",
    "# read as bytes\n",
    "bytes_text = filedata.read()\n",
    "# decode bytes to string\n",
    "script     = bytes_text.decode(\"utf-8\") \n",
    "\n",
    "# inspect the first 500 characters\n",
    "script[0:1000]"
   ]
  },
  {
   "cell_type": "markdown",
   "metadata": {},
   "source": [
    "### (B). Extract Character Names\n",
    "\n",
    "We would like to extract from this rather messy looking HTML a list of characters in the play. To do so, we are going to match all instances of the character name occurring above their dialogue. For example: \n",
    "\n",
    "**HAMLET**\n",
    "\n",
    "> Not so, my lord; I am too much i' the sun.\n",
    "\n",
    "This passage indicates that Hamlet is the character who speaks the line. We would like to capture strings like **HAMLET** using regular expressions. \n",
    "\n",
    "These names are enclosed in HTML `<a>` tags, with a special variable `NAME=speechNUM` (where `NUM` can be any positive integer). Within the `<a>` tags are also `<b>` tags. In some cases, the first `A` in the opening HTML tag may be capitalized. Here are four examples: \n",
    "\n",
    "- `<A NAME=speech1><b>BERNARDO</b></a>`\n",
    "- `<A NAME=speech2><b>FRANCISCO</b></a>`\n",
    "- `<A NAME=speech34><b>KING CLAUDIUS</b></a>`\n",
    "- `<A NAME=speech197><b>First Ambassador</b></a>`\n",
    "\n",
    "Write a regular expression called `pattern` that (a) matches the complete string in each example above and (b) captures the name itself within a group. You should not capture any of the additional HTML tags. Feel free to take the list of examples above, and paste it in [Pythex](https://pythex.org/) to experiment with your expression. Once you've settled on your solution, import the `re` module and use `re.findall` to obtain all character names. At this stage, you should have repeats: for example, there are 23 distinct speeches by the character `BERNARDO`. Save your results as a list called `speeches`. "
   ]
  },
  {
   "cell_type": "code",
   "execution_count": null,
   "metadata": {},
   "outputs": [],
   "source": [
    "for i in speeches_with_lines:\n",
    "    if i[0] in line_dict.keys():\n",
    "        line_dict[i] = count_lines(i)\n",
    "    else:\n",
    "        line_dict[i] += count_lines(i)\n",
    "        "
   ]
  },
  {
   "cell_type": "markdown",
   "metadata": {},
   "source": [
    "Check that you can replicate the following: \n",
    "\n",
    "First check: \n",
    "```python\n",
    "len(speeches)\n",
    "```\n",
    "```\n",
    "1148\n",
    "```\n",
    "\n",
    "Second check: \n",
    "```python\n",
    "speeches[0:4]\n",
    "```\n",
    "```\n",
    "['BERNARDO', 'FRANCISCO', 'BERNARDO', 'FRANCISCO', 'BERNARDO']\n",
    "```"
   ]
  },
  {
   "cell_type": "code",
   "execution_count": null,
   "metadata": {},
   "outputs": [],
   "source": [
    "# first check\n"
   ]
  },
  {
   "cell_type": "code",
   "execution_count": null,
   "metadata": {},
   "outputs": [],
   "source": [
    "# second check\n"
   ]
  },
  {
   "cell_type": "markdown",
   "metadata": {},
   "source": [
    "### (C). Getting Speeches with Lines\n",
    "\n",
    "We would now like to compute the number of lines assigned to each character in the play. \n",
    "\n",
    "Run the following code block, which will add a new expression to your `pattern` from before. "
   ]
  },
  {
   "cell_type": "code",
   "execution_count": null,
   "metadata": {},
   "outputs": [],
   "source": [
    "pattern2 = pattern + r'\\n<blockquote>\\n((.|\\n)+?)\\n</blockquote>'\n",
    "pattern2"
   ]
  },
  {
   "cell_type": "markdown",
   "metadata": {},
   "source": [
    "Spend a few minutes trying to understand `pattern2`. How does it work? What does `|` do? What about `.`? Reviewer, feel free to do a bit of research here and help out your partners. Then, write a brief explanation below. It's fine to run the code below and then come back to the explanation if you're not sure. "
   ]
  },
  {
   "cell_type": "markdown",
   "metadata": {},
   "source": [
    "### Your Explanation"
   ]
  },
  {
   "cell_type": "code",
   "execution_count": null,
   "metadata": {},
   "outputs": [],
   "source": [
    "# write in here\n",
    "\n"
   ]
  },
  {
   "cell_type": "markdown",
   "metadata": {},
   "source": [
    "Now, add the the pattern above immediately after your pattern from Part (B). Again use `re.findall()` to construct a list of matches. Call it `speeches_with_lines`. "
   ]
  },
  {
   "cell_type": "code",
   "execution_count": null,
   "metadata": {},
   "outputs": [],
   "source": [
    "# grab matches here\n"
   ]
  },
  {
   "cell_type": "markdown",
   "metadata": {},
   "source": [
    "Check that `speeches_with_lines` has *nearly* the same length as `speeches`. It will be slightly shorter due to a few HTML irregularities in the source material. No worries! "
   ]
  },
  {
   "cell_type": "code",
   "execution_count": null,
   "metadata": {},
   "outputs": [],
   "source": [
    "# check length here\n"
   ]
  },
  {
   "cell_type": "markdown",
   "metadata": {},
   "source": [
    "### (D). Counting Lines\n",
    "\n",
    "Examine `speeches_with_lines` and note its structure. Write a function `count_lines` which, when applied to a single element of `speeches_with_lines`, gives the number of lines spoken by that character. For example, in the source material, the following speech has two lines. \n",
    "\n",
    "**HAMLET**\n",
    "\n",
    "> I am glad to see you well: <br>\n",
    "> Horatio,--or I do forget myself.\n",
    "\n",
    "**Hint**: in HTML, distinct lines are separated by the tag `<br>`. <br> \n",
    "**Hint**: `\"cat cat cat\".count(\"cat\")`"
   ]
  },
  {
   "cell_type": "code",
   "execution_count": null,
   "metadata": {},
   "outputs": [],
   "source": [
    "# your function here\n",
    "\n"
   ]
  },
  {
   "cell_type": "markdown",
   "metadata": {},
   "source": [
    "Next, create a list `L` of tuples of the form `(character, length_of_speech)` using your new function. There should be one tuple for each speech, so the same character will occur multiple times. This can be done in a single line via a list comprehension. The first 10 entries should be: \n",
    "\n",
    "```\n",
    "[('BERNARDO', 1),\n",
    " ('FRANCISCO', 1),\n",
    " ('BERNARDO', 1),\n",
    " ('FRANCISCO', 1),\n",
    " ('BERNARDO', 1),\n",
    " ('FRANCISCO', 1),\n",
    " ('BERNARDO', 1),\n",
    " ('FRANCISCO', 2),\n",
    " ('BERNARDO', 1),\n",
    " ('FRANCISCO', 1),\n",
    " ...\n",
    "```"
   ]
  },
  {
   "cell_type": "code",
   "execution_count": null,
   "metadata": {},
   "outputs": [],
   "source": [
    "# create your list of tuples\n"
   ]
  },
  {
   "cell_type": "markdown",
   "metadata": {},
   "source": [
    "If you've made it this far, you've done well. If there are fewer than 10 minutes left in Discussion, feel free to wrap up and submit the assignment. Otherwise, please continue on to part (E). \n",
    "\n",
    "---"
   ]
  },
  {
   "cell_type": "markdown",
   "metadata": {},
   "source": [
    "### (E). Aggregate\n",
    "\n",
    "Create a dictionary called `lines_dict` whose keys are the characters and whose values give the total number of lines spoken by that character. Which characters speak the most lines? \n",
    "\n",
    "If you still have time, find a way to display the results in descending order by number of lines. "
   ]
  },
  {
   "cell_type": "code",
   "execution_count": null,
   "metadata": {},
   "outputs": [],
   "source": [
    "# construct and show lines_dict\n"
   ]
  },
  {
   "cell_type": "code",
   "execution_count": null,
   "metadata": {},
   "outputs": [],
   "source": [
    "# show a sorted version (might not be a dict)\n"
   ]
  }
 ],
 "metadata": {
  "kernelspec": {
   "display_name": "Python 3",
   "language": "python",
   "name": "python3"
  },
  "language_info": {
   "codemirror_mode": {
    "name": "ipython",
    "version": 3
   },
   "file_extension": ".py",
   "mimetype": "text/x-python",
   "name": "python",
   "nbconvert_exporter": "python",
   "pygments_lexer": "ipython3",
   "version": "3.8.3"
  }
 },
 "nbformat": 4,
 "nbformat_minor": 4
}
