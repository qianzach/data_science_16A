{
 "cells": [
  {
   "cell_type": "markdown",
   "metadata": {},
   "source": [
    "# Group: Chris Conatzer, Zachary Qian\n",
    "\n",
    "**Note: We affirm that I personally wrote the text, code, and comments in this in-class assignment.**\n",
    "\n",
    "**Additional Note: Only Chris and Zach completed assignment.**\n",
    "\n",
    "\n",
    "# Discussion 4: Closures\n",
    "\n",
    "In the recorded lectures, we've mentioned the idea of \"functions with memory\" a few times, mostly in the context of bad examples. There is a good to write functions with memory -- using **closures.** A closure is just a function that returns another function. \n",
    "\n",
    "As a warmup, observe that we can freely create variables whose values are functions: "
   ]
  },
  {
   "cell_type": "code",
   "execution_count": 1,
   "metadata": {},
   "outputs": [
    {
     "data": {
      "text/plain": [
       "3"
      ]
     },
     "execution_count": 1,
     "metadata": {},
     "output_type": "execute_result"
    }
   ],
   "source": [
    "my_sum = sum\n",
    "my_sum([1, 2])"
   ]
  },
  {
   "cell_type": "markdown",
   "metadata": {},
   "source": [
    "This means that we can freely create closures -- functions that return other functions, and assign these new functions to values. The reason that closures can be advantageous is that the returned (\"inner\") function has access to the variables created in the \"outer\" function. This is especially useful when these variables created in the outer function are mutable. Here's a simple example. "
   ]
  },
  {
   "cell_type": "code",
   "execution_count": 2,
   "metadata": {},
   "outputs": [],
   "source": [
    "def f(): # outer function\n",
    "    L = []\n",
    "    \n",
    "    def g(): # inner function\n",
    "        L.append(\"a\")\n",
    "        return(L)\n",
    "    \n",
    "    return g"
   ]
  },
  {
   "cell_type": "code",
   "execution_count": 3,
   "metadata": {},
   "outputs": [],
   "source": [
    "g = f()"
   ]
  },
  {
   "cell_type": "code",
   "execution_count": 4,
   "metadata": {},
   "outputs": [
    {
     "data": {
      "text/plain": [
       "['a']"
      ]
     },
     "execution_count": 4,
     "metadata": {},
     "output_type": "execute_result"
    }
   ],
   "source": [
    "g()"
   ]
  },
  {
   "cell_type": "code",
   "execution_count": 6,
   "metadata": {},
   "outputs": [],
   "source": [
    "#"
   ]
  },
  {
   "cell_type": "markdown",
   "metadata": {},
   "source": [
    "What's happening here is that `L` is available to the function `g`, but because `L` was defined inside `f`, `L` is not available as a global variable. This is super handy -- it allows us to create a function with memory without defining any global variables. "
   ]
  },
  {
   "cell_type": "markdown",
   "metadata": {},
   "source": [
    "# A Prime Checker\n",
    "\n",
    "How can we tell whether a number `n` is prime? The simplest method is to see whether any number smaller than `n` (other than `1` divides `n`). However, this is not necessary -- it suffices to check all numbers smaller than $\\sqrt{n}$. (why?). This fact can lead to big computational savings when checking large primes. \n",
    "\n",
    "However, even **that** is suboptimal. Rather than checking all numbers amller than $\\sqrt{n}$, it suffices to check only *prime* numbers smaller than $\\sqrt{n}$. The [prime number theorem](https://en.wikipedia.org/wiki/Prime_number_theorem) states that there are, asymptotically (when n is very large), roughly\n",
    "\n",
    "$$\\frac{\\sqrt{n}}{\\log \\sqrt{n}}$$ \n",
    "\n",
    "primes less than $\\sqrt{n}$. Using this fact can give substantial computational savings for large $n$. \n",
    "\n",
    "Of course, we can only realize these savings *if* we already know which numbers less than $\\sqrt{n}$ are prime. \n",
    "\n",
    "## Assignment\n",
    "\n",
    "In this assignment, you and your group will write a closure (a function returning a function) that can be used to efficiently check prime numbers. The outer function will initialize a list of known primes, which the inner function will then efficiently populate. \n",
    "\n",
    "Work creatively with your group to fill in functioning code below, guided by the comments. This problem can be solved by writing no more than 5 lines of code for each of the supplied comments. "
   ]
  },
  {
   "cell_type": "code",
   "execution_count": 77,
   "metadata": {},
   "outputs": [],
   "source": [
    "import math\n",
    "\n",
    "def create_prime_checker():\n",
    "    \"\"\"\n",
    "    Return a function prime_checker() which takes a single argument n. \n",
    "    prime_checker() stores a list of known primes. If n is in the list of known primes, \n",
    "    then prime_checker() returns true. \n",
    "    Otherwise, prime_checker() will first check whether n is divisible by one of the known primes, returning False if so. \n",
    "    If not, prime_checker() will then check whether n is divisible by any number between the largest known prime and \n",
    "    math.sqrt(n), returning False if so. \n",
    "    If not, then n is added to the list of known primes and True is returned. \n",
    "    \"\"\"\n",
    "    \n",
    "    known_primes = []# what's the right way to initialize? \n",
    "    \n",
    "    def prime_checker(n, verbose = False):\n",
    "        if n ==1 or n == 0:\n",
    "            return False\n",
    "        \n",
    "        if verbose == True:\n",
    "            print(known_primes)\n",
    "            if n in known_primes:\n",
    "                print(n, \" is already a known prime number.\")\n",
    "                return True #because n is already a known prime?\n",
    "            elif len([i for i in known_primes if n%i==0]) != 0: #check if it isn't divisible by the known primes\n",
    "                print(\"Hi\")\n",
    "                return False\n",
    "            else:\n",
    "                for i in range(2,round(math.sqrt(n))):\n",
    "                    if n%i == 0:\n",
    "                        return False\n",
    "                #[n%i == 0 for range(2,round(math.sqrt(n)))]\n",
    "            \n",
    "            known_primes.append(n)\n",
    "            print(\"Our list is: \", known_primes)\n",
    "            return True\n",
    "    return prime_checker #when using (), you use the actual function whereas returning it\n",
    "\n",
    "\n",
    "\n",
    "        # if verbose == True, print the list of known primes (this is primarily for your debugging)\n",
    "        \n",
    "        # check whether n is in the list of known primes, and act appropriately. \n",
    "        \n",
    "        # next, check whether any of the known primes divide n, and return False if so. \n",
    "        \n",
    "        # next, check possible factors up to and include math.sqrt(n), and return False if so. \n",
    "        \n",
    "        # If no factors found, add n to the list of known primes and return True\n",
    "    "
   ]
  },
  {
   "cell_type": "code",
   "execution_count": 70,
   "metadata": {},
   "outputs": [
    {
     "data": {
      "text/plain": [
       "False"
      ]
     },
     "execution_count": 70,
     "metadata": {},
     "output_type": "execute_result"
    }
   ],
   "source": [
    "import math\n",
    "#range(0,round(math.sqrt(5))\n",
    "x = [2,3,5,7]\n",
    "n = 23\n",
    "len([i for i in x if n%i==0]) != 0"
   ]
  },
  {
   "cell_type": "markdown",
   "metadata": {},
   "source": [
    "You should be able to use your code as below. Feel free to run these blocks as test cases to check the functioning of your code as you build it. "
   ]
  },
  {
   "cell_type": "code",
   "execution_count": 78,
   "metadata": {},
   "outputs": [],
   "source": [
    "prime_checker = create_prime_checker() # remember that create_prime_checker() returns a function!! "
   ]
  },
  {
   "cell_type": "code",
   "execution_count": 79,
   "metadata": {},
   "outputs": [
    {
     "name": "stdout",
     "output_type": "stream",
     "text": [
      "[]\n",
      "Our list is:  [3]\n",
      "[3]\n",
      "Our list is:  [3, 7]\n"
     ]
    },
    {
     "data": {
      "text/plain": [
       "True"
      ]
     },
     "execution_count": 79,
     "metadata": {},
     "output_type": "execute_result"
    }
   ],
   "source": [
    "#prime_checker(5, verbose = True) # for debugging \n",
    "prime_checker(3, verbose = True)\n",
    "prime_checker(7, verbose = True)\n",
    "# ---"
   ]
  },
  {
   "cell_type": "markdown",
   "metadata": {},
   "source": [
    "*Note*: 1 is not prime. "
   ]
  },
  {
   "cell_type": "markdown",
   "metadata": {},
   "source": [
    "## Additional Use Cases\n",
    "\n",
    "If you'd like to see things in a little more detail (or compute some larger primes), try playing with the code below. There are no requirements related to the assignment here. "
   ]
  },
  {
   "cell_type": "code",
   "execution_count": 63,
   "metadata": {},
   "outputs": [],
   "source": [
    "prime_checker = create_prime_checker() # remember that create_prime_checker() returns a function!! "
   ]
  },
  {
   "cell_type": "code",
   "execution_count": 80,
   "metadata": {},
   "outputs": [
    {
     "name": "stdout",
     "output_type": "stream",
     "text": [
      "0 False\n",
      "1 False\n",
      "[3, 7]\n",
      "Our list is:  [3, 7, 2]\n",
      "2 True\n",
      "[3, 7, 2]\n",
      "3  is already a known prime number.\n",
      "3 True\n",
      "[3, 7, 2]\n",
      "Hi\n",
      "4 False\n",
      "[3, 7, 2]\n",
      "Our list is:  [3, 7, 2, 5]\n",
      "5 True\n",
      "[3, 7, 2, 5]\n",
      "Hi\n",
      "6 False\n",
      "[3, 7, 2, 5]\n",
      "7  is already a known prime number.\n",
      "7 True\n",
      "[3, 7, 2, 5]\n",
      "Hi\n",
      "8 False\n",
      "[3, 7, 2, 5]\n",
      "Hi\n",
      "9 False\n",
      "[3, 7, 2, 5]\n",
      "Hi\n",
      "10 False\n",
      "[3, 7, 2, 5]\n",
      "Our list is:  [3, 7, 2, 5, 11]\n",
      "11 True\n",
      "[3, 7, 2, 5, 11]\n",
      "Hi\n",
      "12 False\n",
      "[3, 7, 2, 5, 11]\n",
      "Our list is:  [3, 7, 2, 5, 11, 13]\n",
      "13 True\n",
      "[3, 7, 2, 5, 11, 13]\n",
      "Hi\n",
      "14 False\n",
      "[3, 7, 2, 5, 11, 13]\n",
      "Hi\n",
      "15 False\n",
      "[3, 7, 2, 5, 11, 13]\n",
      "Hi\n",
      "16 False\n",
      "[3, 7, 2, 5, 11, 13]\n",
      "Our list is:  [3, 7, 2, 5, 11, 13, 17]\n",
      "17 True\n",
      "[3, 7, 2, 5, 11, 13, 17]\n",
      "Hi\n",
      "18 False\n",
      "[3, 7, 2, 5, 11, 13, 17]\n",
      "Our list is:  [3, 7, 2, 5, 11, 13, 17, 19]\n",
      "19 True\n"
     ]
    }
   ],
   "source": [
    "for i in range(20):\n",
    "    print(i, prime_checker(i, verbose = True))\n",
    "\n",
    "# prime_checker(5, verbose = True) # for debugging \n",
    "# prime_checker(3, verbose = True)\n",
    "# prime_checker(7, verbose = True)\n",
    "# ---"
   ]
  },
  {
   "cell_type": "code",
   "execution_count": 168,
   "metadata": {},
   "outputs": [],
   "source": [
    "# primes up to 10,000\n",
    "primes = [i for i in range(10000) if prime_checker(i)]"
   ]
  }
 ],
 "metadata": {
  "kernelspec": {
   "display_name": "Python 3",
   "language": "python",
   "name": "python3"
  },
  "language_info": {
   "codemirror_mode": {
    "name": "ipython",
    "version": 3
   },
   "file_extension": ".py",
   "mimetype": "text/x-python",
   "name": "python",
   "nbconvert_exporter": "python",
   "pygments_lexer": "ipython3",
   "version": "3.8.3"
  }
 },
 "nbformat": 4,
 "nbformat_minor": 4
}
