{
 "cells": [
  {
   "cell_type": "markdown",
   "metadata": {},
   "source": [
    "# The Hedonometer\n",
    "\n",
    "**Sentiment analysis** is a common tool for studying natural language. The basic question of sentiment analysis is: how **positive** or **happy** is this set of text? For example, \n",
    "\n",
    "> I'm having such a good time at the apple orchard!! \n",
    "\n",
    "has a \"positive feeling,\" while \n",
    "\n",
    "> I'm not mad, just disappointed. \n",
    "\n",
    "doesn't sound nearly as pleasant. In sentiment analysis, we try to quantify the difference between these two sentences. \n",
    "\n",
    "Sentiment analysis is a very common tool in business marketing, where it can be useful to examine, say, the sentiment of tweets in response to your ad. Within research, one of the most famous sentiment analysis projects is the [**Hedonometer**](https://hedonometer.org/timeseries/en_all/) from the Computational Story Lab at the University of Vermont. Their analysis suggests that the summer of 2020, amidst a pandemic and controversy over police brutality, has been one of the true low points of the last decade -- at least on Twitter, where they collect their data. \n",
    "\n",
    "In this Discussion activity, we'll create a much simpler sentiment analysis tool. To do this, we'll actually use a sentiment dictionary provided by the Computational Story Lab. \n",
    "\n",
    "### Part (A)\n",
    "\n",
    "Run the following block of code. This code downloads some additional code, containing a statement initializing a large dictionary. Then, we `exec`ute that code to create the dictionary in our global namespace. "
   ]
  },
  {
   "cell_type": "code",
   "execution_count": null,
   "metadata": {},
   "outputs": [],
   "source": [
    "# run this block\n",
    "\n",
    "# need this library for grabbing things from the internet\n",
    "import urllib\n",
    "\n",
    "# location of the file we want\n",
    "url = \"https://philchodrow.github.io/PIC16A/discussion/happiness_dictionary.py\"\n",
    "\n",
    "# get the data from the web (it's a .py file)\n",
    "filedata = urllib.request.urlopen(url) \n",
    "\n",
    "# run the code to define the dictionary\n",
    "exec(filedata.read())"
   ]
  },
  {
   "cell_type": "markdown",
   "metadata": {},
   "source": [
    "If you ran the code above, you now have a variable in your global scope called `happiness_dictionary`. It has a lot of entries! "
   ]
  },
  {
   "cell_type": "code",
   "execution_count": null,
   "metadata": {},
   "outputs": [],
   "source": [
    "len(happiness_dictionary)"
   ]
  },
  {
   "cell_type": "markdown",
   "metadata": {},
   "source": [
    "The dictionary looks like this: \n",
    "\n",
    "```python\n",
    "{'laughter' : 8.5,\n",
    " 'happiness': 8.44,\n",
    " 'love'     : 8.42,\n",
    " 'happy'    : 8.3,\n",
    " 'laughed'  : 8.26,\n",
    " 'laugh'    : 8.22,\n",
    " 'laughing' : 8.2,\n",
    " 'excellent': 8.18,\n",
    " 'laughs'   : 8.18,\n",
    " 'joy'      : 8.16,\n",
    " ...\n",
    "}\n",
    "```\n",
    "\n",
    "Each entry gives a score to a specific English word. For example, `\"laughter\"` is considered in this dictionary to be a slightly more positive word that `\"happiness\"` or \"`love`\". The details of how these scores are chosen are very interesting, and people are still innovating in this space. \n",
    "\n",
    "### Part (B)\n",
    "\n",
    "Create a class called `happiness_meter` (a less-sophisticated version of \"Hedonometer\"). Give it an `__init__()` method that accepts a single argument `D`. `D` should be a dictionary; if it's not, raise a `TypeError`. Otherwise, create an instance variable to hold `D`. Check that you can instantiate your class, using the `happiness_dictionary` as an argument. "
   ]
  },
  {
   "cell_type": "code",
   "execution_count": null,
   "metadata": {},
   "outputs": [],
   "source": [
    "# define your class here\n",
    "\n"
   ]
  },
  {
   "cell_type": "code",
   "execution_count": null,
   "metadata": {},
   "outputs": [],
   "source": [
    "# check that you can instantiate it here\n",
    "\n"
   ]
  },
  {
   "cell_type": "markdown",
   "metadata": {},
   "source": [
    "### Part (C)\n",
    "\n",
    "The following function strips out punctuation from a string. Modify this function and add it as a `strip_punctuation()` method of the `happy_meter` class. You can just add it to your class definition from Part (B). \n",
    "\n",
    "```python\n",
    "def strip_punctuation(s):\n",
    "    return(s.translate(str.maketrans('', '', string.punctuation)))\n",
    "```\n",
    "\n",
    "It's not necessary for this assignment for you to understand how this function works, but you are welcome to check the documentation for `str.translate()` and `str.maketrans()` if you're interested. \n",
    "\n",
    "Compose a sentence with some punctuation in it and test out your implementation. "
   ]
  },
  {
   "cell_type": "code",
   "execution_count": null,
   "metadata": {},
   "outputs": [],
   "source": [
    "\n",
    "\n"
   ]
  },
  {
   "cell_type": "markdown",
   "metadata": {},
   "source": [
    "### Part (D)\n",
    "\n",
    "Add a `score_sentence()` method to your class. This is the \"main point\" of the class and the most complex part of the assignment, so it's fine to spend some extra time here. If you make it through this part, then you are doing very well. \n",
    "\n",
    "Here's what `score_sentence()` should do :\n",
    "\n",
    "1. Accept a single argument `s`:\n",
    "2. For each word in `s`, check whether `s` is in the dictionary stored as an instance variable. If so, log in some way the happiness score associated with `s`. Don't forget that all the entries of `happiness_dictionary` are lower case. **For this part, you should use a `try`-`except` block** to handle the case in which a given word is not present in the dictionary.  \n",
    "3. Return the **average** score of all the matches found in `s`. \n",
    "\n",
    "Again, you can just add this method to your class definition beneath Part (B). \n",
    "\n",
    "Test `score_sentence()` on the examples at the beginning of the assignment and show the results. Do they match your expectations?  \n",
    "\n",
    "#### Your Solution"
   ]
  },
  {
   "cell_type": "code",
   "execution_count": null,
   "metadata": {},
   "outputs": [],
   "source": [
    "\n",
    "\n"
   ]
  },
  {
   "cell_type": "markdown",
   "metadata": {},
   "source": [
    "If you've made it this far, then you've done very well. If it's close to the end of the scheduled Discussion period, add comments and docstrings to your assignment and turn it in. If there are more than 10 minutes left, proceed to Parts (E) and (F). "
   ]
  },
  {
   "cell_type": "markdown",
   "metadata": {},
   "source": [
    "### Part (E)\n",
    "\n",
    "\n",
    "Add a `score_passage(p)` method, which scores a string with multiple sentences. \n",
    "\n",
    "`score_passage(p)` should return a dictionary, whose keys are the individual sentences in passage `p` and whose values are the happiness scores associated with those sentences. You may assume that all sentences end with a period `.`, and that the period `.` does not appear in any other contexts. \n",
    "\n",
    "For example: \n",
    "\n",
    "```python\n",
    "HM = happy_meter(happiness_dictionary)\n",
    "HM.score_passage(\"I'm having such a good time at the apple orchard. I'm not mad, just disappointed.\")\n",
    "\n",
    "# output\n",
    "{\"I'm having such a good time at the apple orchard\": 5.717777777777777,\n",
    " \"I'm not mad, just disappointed.\": 3.9}\n",
    "```\n",
    "\n",
    "Add your implementation of `score_passage()` to your class definition under Part (B). Then, test out your implementation on the first two paragraphs of Dr. Martin Luther King's famous \"I have a Dream\" speech, which are initialized as `p` in the block below. \n",
    "\n",
    "### Your Solution"
   ]
  },
  {
   "cell_type": "code",
   "execution_count": null,
   "metadata": {},
   "outputs": [],
   "source": [
    "p = \"I am happy to join with you today in what will go down in history as the greatest demonstration for freedom in the history of our nation. Five score years ago, a great American, in whose symbolic shadow we stand today, signed the Emancipation Proclamation. This momentous decree came as a great beacon light of hope to millions of Negro slaves who had been seared in the flames of withering injustice. It came as a joyous daybreak to end the long night of their captivity. But one hundred years later, the Negro still is not free. One hundred years later, the life of the Negro is still sadly crippled by the manacles of segregation and the chains of discrimination. One hundred years later, the Negro lives on a lonely island of poverty in the midst of a vast ocean of material prosperity. One hundred years later, the Negro is still languished in the corners of American society and finds himself an exile in his own land. And so we've come here today to dramatize a shameful condition.\"\n",
    "\n"
   ]
  },
  {
   "cell_type": "markdown",
   "metadata": {},
   "source": [
    "## Part (F)\n",
    "\n",
    "Examine the output of the `score_passage()` function from Part (E). Do you agree with its relative rankings of the sentences? What are some of the limitations of using word-by-word happiness scores? \n",
    "\n",
    "The method of measuring sentences using only the individual words contained in them, without regard for the order of the words, is called the *bag-of-words* model. What are some of the benefits and drawbacks of using the bag-of-words model? Discuss and write down a few of your considerations. \n",
    "\n",
    "### Your Response Here\n",
    "\n"
   ]
  },
  {
   "cell_type": "markdown",
   "metadata": {},
   "source": [
    " "
   ]
  }
 ],
 "metadata": {
  "kernelspec": {
   "display_name": "Python 3",
   "language": "python",
   "name": "python3"
  },
  "language_info": {
   "codemirror_mode": {
    "name": "ipython",
    "version": 3
   },
   "file_extension": ".py",
   "mimetype": "text/x-python",
   "name": "python",
   "nbconvert_exporter": "python",
   "pygments_lexer": "ipython3",
   "version": "3.8.3"
  }
 },
 "nbformat": 4,
 "nbformat_minor": 4
}
