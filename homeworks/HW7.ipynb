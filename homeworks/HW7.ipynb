{
 "cells": [
  {
   "cell_type": "markdown",
   "metadata": {},
   "source": [
    "# Homework 7\n",
    "\n",
    "Zachary Qian\n",
    "\n",
    "UCLA ID: 905211936\n",
    "\n",
    "I affirm that I personally wrote the text, code, and comments in this homework assignment.\n",
    "\n",
    "**Note: Consulted with partner Chris on the data visualization aspect of the homework. However, most of the code discussed was already from our discussion, which (for the week in question), I wrote.**"
   ]
  },
  {
   "cell_type": "markdown",
   "metadata": {},
   "source": [
    "## Problem 0\n",
    "\n",
    "It is highly recommended that you work with your group to fully complete the Discussion assignments on 11/17, 11/19, and 11/24, as these will directly help with your project. "
   ]
  },
  {
   "cell_type": "markdown",
   "metadata": {},
   "source": [
    "## Problem 1\n",
    "\n",
    "In your project, you are required to demonstrate the use of decision trees and multinomial logistic regression classifiers. Groups of three must also demonstrate the use of one additional model. In this homework assignment, you will write a detailed report that will largely fulfill this requirement. \n",
    "\n",
    "Choose one machine learning model, other than decision trees and multinomial logistic regression (unless you are a group of 2 -- see below). Some possibilities include, but are not limited to: \n",
    "\n",
    "- Support vector classifiers (`sklearn.svm.SVC`). Complexity parameter is called `gamma`. Higher values create more complex models)\n",
    "- K-nearest-neighbor classifiers (`sklearn.neighbors.KNeighborsClassifier`). Complexity parameter is called `n_neighbors`. Higher values create less complex models. When working with KNN models, it is helpful to standardize your data columns first. For this purpose, `sklearn.preprocessing.StandardScaler` can be used. \n",
    "- Multilayer perceptron classifier, a kind of neural network (`sklearn.neural_network.MLPClassifier`). The complexity is controlled by the number of neurons and layers, as specified by the `hidden_layer_sizes` parameter -- more neurons and layers correspond to more complex models. \n",
    "\n",
    "You should consult the documentation for these models, which is available online or via `?`. \n",
    "\n",
    "**Suggestion**: It is recommended, but not required, that you coordinate with your group members so that each of you explores a different model. It is similarly suggested, but not required, that each of you use different subsets of three columns so that you can each learn something about different parts of the data. You are encouraged to help each other out on all parts of this problem. \n",
    "\n",
    "#### Groups of 2\n",
    "\n",
    "If you are a group of 2, you are not required to use an additional model and may instead use multinomial logistic regression for this assignment. Please note this in your submission. \n",
    "\n",
    "- Multinomial logistic regression (`sklearn.linear_model.LogisticRegression`). The complexity is controlled by `C`, the inverse regularization strength. Larger values of `C` correspond to more complex models. If you demonstrate multinomial logistic regression for this problem, you should also demonstrate cross-validation to select a small feature set. That is, you should (a) skip step 2 below and (b) use CV to select a set of three features, including one qualitative feature and two quantitative ones. \n",
    "\n",
    "### Instructions\n",
    "\n",
    "Replicate and expand the pipeline from Discussion 15, substituting out decision trees for your chosen classifier. You may also choose a different set of three columns than the ones used in that Discussion activity. In particular, you should: \n",
    "\n",
    "1. **Load** the data. \n",
    "2. **Select no more than three predictor columns** of the data and the `Species` target column, discarding the others. Choose one qualitative predictor column (e.g. `Island`, `Sex`) and two quantitative predictor columns. \n",
    "2. **Split the data** into training and test sets. \n",
    "3. Write one or more functions to **clean and transform the data** as needed. You should add comments and function docstrings as appropriate to describe to your reader what you are doing and why. Apply your functions to the training and test sets. \n",
    "4. **Use cross-validation** to estimate an optimal complexity parameter for your model. \n",
    "5. Having selected an optimal complexity parameter, **evaluate your model on the test set.** \n",
    "6. **Inspect** a few instances in which your trained model gave the wrong answer on the test set. Explain why your model was \"tricked\" in this case? Create and comment on a confusion matrix -- [check Monday's lecture notes](https://nbviewer.jupyter.org/github/PhilChodrow/PIC16A/blob/master/content/ML/digits.ipynb) for an example. \n",
    "7. **Plot the [decision regions](https://nbviewer.jupyter.org/github/PhilChodrow/PIC16A/blob/master/live_lectures/live-lecture-22.ipynb)** for your model. The horizontal and vertical axes should be the two quantitative predictor variables that you selected. Create a separate plot for each possible value of the qualitative predictor variable that you selected. For example, if you chose `Sex` as your qualitative variable, you should show two plots, with the decision regions for Female and Male penguins separately. Add appropriate axis labels and any other measures required to make your plots look professional. Add commentary to contextualize the mistakes that your model made. \n",
    "\n",
    "Throughout, add helpful explanation for your reader. For example, you should explain the idea behind cross-validation; anything you are able to learn about how your model works; how to interpret the optimal complexity parameter; and why your model went wrong in certain cases.  \n",
    "\n",
    "### Specifications\n",
    "\n",
    "Your solution should **not** fit in a single code cell -- a good, readable, and adequately-explained solution will likely require at least one code cell for each of the eight steps above. Make sure that there is plenty of surrounding text explanation and comments. Add code cells and plenty of markdown cells as needed. You can also use section headers with `###` to organize your work. **Treat this problem as 50% coding assignment and 50% clearly-written lab report.**\n",
    "\n",
    "Your comments and explanation should be written to an imaginary reader who has never encountered the Palmer Penguins data set before, and knows less about machine learning than you do. Explain your steps. Why train-test split? Why cross-validation? Why decision regions? And so on. If you'd like, imagine that you are writing to a time-traveller version of you from two weeks ago. \n",
    "\n",
    "## Your Solution"
   ]
  },
  {
   "cell_type": "markdown",
   "metadata": {},
   "source": [
    "### Load dependencies and Read Data"
   ]
  },
  {
   "cell_type": "code",
   "execution_count": 156,
   "metadata": {},
   "outputs": [],
   "source": [
    "# ... \n",
    "import urllib\n",
    "import pandas as pd\n",
    "from matplotlib import pyplot as plt\n",
    "from sklearn import tree, preprocessing\n",
    "import numpy as np"
   ]
  },
  {
   "cell_type": "code",
   "execution_count": 157,
   "metadata": {},
   "outputs": [],
   "source": [
    "#from our discussion activities, we load the data\n",
    "url = 'https://philchodrow.github.io/PIC16A/content/IO_and_modules/IO/palmer_penguins.csv'\n",
    "filedata = urllib.request.urlopen(url)\n",
    "with open('penguins.csv', 'wb') as f:\n",
    "    f.write(filedata.read())\n",
    "penguins = pd.read_csv('penguins.csv')"
   ]
  },
  {
   "cell_type": "markdown",
   "metadata": {},
   "source": [
    "### Inspect Data"
   ]
  },
  {
   "cell_type": "code",
   "execution_count": 158,
   "metadata": {},
   "outputs": [
    {
     "name": "stdout",
     "output_type": "stream",
     "text": [
      "(344, 17)\n"
     ]
    },
    {
     "data": {
      "text/html": [
       "<div>\n",
       "<style scoped>\n",
       "    .dataframe tbody tr th:only-of-type {\n",
       "        vertical-align: middle;\n",
       "    }\n",
       "\n",
       "    .dataframe tbody tr th {\n",
       "        vertical-align: top;\n",
       "    }\n",
       "\n",
       "    .dataframe thead th {\n",
       "        text-align: right;\n",
       "    }\n",
       "</style>\n",
       "<table border=\"1\" class=\"dataframe\">\n",
       "  <thead>\n",
       "    <tr style=\"text-align: right;\">\n",
       "      <th></th>\n",
       "      <th>studyName</th>\n",
       "      <th>Sample Number</th>\n",
       "      <th>Species</th>\n",
       "      <th>Region</th>\n",
       "      <th>Island</th>\n",
       "      <th>Stage</th>\n",
       "      <th>Individual ID</th>\n",
       "      <th>Clutch Completion</th>\n",
       "      <th>Date Egg</th>\n",
       "      <th>Culmen Length (mm)</th>\n",
       "      <th>Culmen Depth (mm)</th>\n",
       "      <th>Flipper Length (mm)</th>\n",
       "      <th>Body Mass (g)</th>\n",
       "      <th>Sex</th>\n",
       "      <th>Delta 15 N (o/oo)</th>\n",
       "      <th>Delta 13 C (o/oo)</th>\n",
       "      <th>Comments</th>\n",
       "    </tr>\n",
       "  </thead>\n",
       "  <tbody>\n",
       "    <tr>\n",
       "      <th>0</th>\n",
       "      <td>PAL0708</td>\n",
       "      <td>1</td>\n",
       "      <td>Adelie Penguin (Pygoscelis adeliae)</td>\n",
       "      <td>Anvers</td>\n",
       "      <td>Torgersen</td>\n",
       "      <td>Adult, 1 Egg Stage</td>\n",
       "      <td>N1A1</td>\n",
       "      <td>Yes</td>\n",
       "      <td>11/11/07</td>\n",
       "      <td>39.1</td>\n",
       "      <td>18.7</td>\n",
       "      <td>181.0</td>\n",
       "      <td>3750.0</td>\n",
       "      <td>MALE</td>\n",
       "      <td>NaN</td>\n",
       "      <td>NaN</td>\n",
       "      <td>Not enough blood for isotopes.</td>\n",
       "    </tr>\n",
       "    <tr>\n",
       "      <th>1</th>\n",
       "      <td>PAL0708</td>\n",
       "      <td>2</td>\n",
       "      <td>Adelie Penguin (Pygoscelis adeliae)</td>\n",
       "      <td>Anvers</td>\n",
       "      <td>Torgersen</td>\n",
       "      <td>Adult, 1 Egg Stage</td>\n",
       "      <td>N1A2</td>\n",
       "      <td>Yes</td>\n",
       "      <td>11/11/07</td>\n",
       "      <td>39.5</td>\n",
       "      <td>17.4</td>\n",
       "      <td>186.0</td>\n",
       "      <td>3800.0</td>\n",
       "      <td>FEMALE</td>\n",
       "      <td>8.94956</td>\n",
       "      <td>-24.69454</td>\n",
       "      <td>NaN</td>\n",
       "    </tr>\n",
       "    <tr>\n",
       "      <th>2</th>\n",
       "      <td>PAL0708</td>\n",
       "      <td>3</td>\n",
       "      <td>Adelie Penguin (Pygoscelis adeliae)</td>\n",
       "      <td>Anvers</td>\n",
       "      <td>Torgersen</td>\n",
       "      <td>Adult, 1 Egg Stage</td>\n",
       "      <td>N2A1</td>\n",
       "      <td>Yes</td>\n",
       "      <td>11/16/07</td>\n",
       "      <td>40.3</td>\n",
       "      <td>18.0</td>\n",
       "      <td>195.0</td>\n",
       "      <td>3250.0</td>\n",
       "      <td>FEMALE</td>\n",
       "      <td>8.36821</td>\n",
       "      <td>-25.33302</td>\n",
       "      <td>NaN</td>\n",
       "    </tr>\n",
       "    <tr>\n",
       "      <th>3</th>\n",
       "      <td>PAL0708</td>\n",
       "      <td>4</td>\n",
       "      <td>Adelie Penguin (Pygoscelis adeliae)</td>\n",
       "      <td>Anvers</td>\n",
       "      <td>Torgersen</td>\n",
       "      <td>Adult, 1 Egg Stage</td>\n",
       "      <td>N2A2</td>\n",
       "      <td>Yes</td>\n",
       "      <td>11/16/07</td>\n",
       "      <td>NaN</td>\n",
       "      <td>NaN</td>\n",
       "      <td>NaN</td>\n",
       "      <td>NaN</td>\n",
       "      <td>NaN</td>\n",
       "      <td>NaN</td>\n",
       "      <td>NaN</td>\n",
       "      <td>Adult not sampled.</td>\n",
       "    </tr>\n",
       "    <tr>\n",
       "      <th>4</th>\n",
       "      <td>PAL0708</td>\n",
       "      <td>5</td>\n",
       "      <td>Adelie Penguin (Pygoscelis adeliae)</td>\n",
       "      <td>Anvers</td>\n",
       "      <td>Torgersen</td>\n",
       "      <td>Adult, 1 Egg Stage</td>\n",
       "      <td>N3A1</td>\n",
       "      <td>Yes</td>\n",
       "      <td>11/16/07</td>\n",
       "      <td>36.7</td>\n",
       "      <td>19.3</td>\n",
       "      <td>193.0</td>\n",
       "      <td>3450.0</td>\n",
       "      <td>FEMALE</td>\n",
       "      <td>8.76651</td>\n",
       "      <td>-25.32426</td>\n",
       "      <td>NaN</td>\n",
       "    </tr>\n",
       "  </tbody>\n",
       "</table>\n",
       "</div>"
      ],
      "text/plain": [
       "  studyName  Sample Number                              Species  Region  \\\n",
       "0   PAL0708              1  Adelie Penguin (Pygoscelis adeliae)  Anvers   \n",
       "1   PAL0708              2  Adelie Penguin (Pygoscelis adeliae)  Anvers   \n",
       "2   PAL0708              3  Adelie Penguin (Pygoscelis adeliae)  Anvers   \n",
       "3   PAL0708              4  Adelie Penguin (Pygoscelis adeliae)  Anvers   \n",
       "4   PAL0708              5  Adelie Penguin (Pygoscelis adeliae)  Anvers   \n",
       "\n",
       "      Island               Stage Individual ID Clutch Completion  Date Egg  \\\n",
       "0  Torgersen  Adult, 1 Egg Stage          N1A1               Yes  11/11/07   \n",
       "1  Torgersen  Adult, 1 Egg Stage          N1A2               Yes  11/11/07   \n",
       "2  Torgersen  Adult, 1 Egg Stage          N2A1               Yes  11/16/07   \n",
       "3  Torgersen  Adult, 1 Egg Stage          N2A2               Yes  11/16/07   \n",
       "4  Torgersen  Adult, 1 Egg Stage          N3A1               Yes  11/16/07   \n",
       "\n",
       "   Culmen Length (mm)  Culmen Depth (mm)  Flipper Length (mm)  Body Mass (g)  \\\n",
       "0                39.1               18.7                181.0         3750.0   \n",
       "1                39.5               17.4                186.0         3800.0   \n",
       "2                40.3               18.0                195.0         3250.0   \n",
       "3                 NaN                NaN                  NaN            NaN   \n",
       "4                36.7               19.3                193.0         3450.0   \n",
       "\n",
       "      Sex  Delta 15 N (o/oo)  Delta 13 C (o/oo)  \\\n",
       "0    MALE                NaN                NaN   \n",
       "1  FEMALE            8.94956          -24.69454   \n",
       "2  FEMALE            8.36821          -25.33302   \n",
       "3     NaN                NaN                NaN   \n",
       "4  FEMALE            8.76651          -25.32426   \n",
       "\n",
       "                         Comments  \n",
       "0  Not enough blood for isotopes.  \n",
       "1                             NaN  \n",
       "2                             NaN  \n",
       "3              Adult not sampled.  \n",
       "4                             NaN  "
      ]
     },
     "execution_count": 158,
     "metadata": {},
     "output_type": "execute_result"
    }
   ],
   "source": [
    "print(penguins.shape)\n",
    "\n",
    "penguins.head()"
   ]
  },
  {
   "cell_type": "markdown",
   "metadata": {},
   "source": [
    "### Preprocessing and Feature Selection\n",
    "\n",
    "We can preprocess by removing censored data, as well as data with NaN, or nonsensical values ( `Sex=` \".\")\n",
    "\n",
    "Also, we can get rid of trivial columns, such as **comments, individual ID, Sample Number,  Clutch Completion, Stage, Region and studyName**.\n",
    "\n",
    "Notice that I also converted our categorical string columns to discrete numerics with the `LabelEncoder()` function. "
   ]
  },
  {
   "cell_type": "code",
   "execution_count": 159,
   "metadata": {},
   "outputs": [],
   "source": [
    "from sklearn import preprocessing\n",
    "def clean(df):\n",
    "    \"\"\"\n",
    "    Clean is specifically here to remove NaN values or get rid of nonsensical values in our data.\n",
    "    For example, we are specifically targeting the one value in Sex that isn't Male or Female and is a \".\"\n",
    "    \n",
    "    We also use preprocessing's LabelEncoder() for the qualitative/categorical variables to convert to numeric.\n",
    "    Input: dataframe\n",
    "    Output: dataframe\n",
    "    \"\"\"\n",
    "    df = df.dropna() #rid of NaN rows\n",
    "    \n",
    "    df = df[df.Sex != \".\" ]\n",
    "    le = preprocessing.LabelEncoder() #change our categorical to discrete numerics\n",
    "    df[\"Island\"] = le.fit_transform(df[\"Island\"]) #transform categorical data \n",
    "    df[\"Sex\"] = le.fit_transform(df[\"Sex\"]) #WLOG as seen above\n",
    "    df[\"Species\"]=le.fit_transform(df[\"Species\"]) #WLOG as seen above\n",
    "    \n",
    "    return df  "
   ]
  },
  {
   "cell_type": "code",
   "execution_count": 160,
   "metadata": {
    "scrolled": true
   },
   "outputs": [
    {
     "name": "stdout",
     "output_type": "stream",
     "text": [
      "(324, 9)\n"
     ]
    },
    {
     "data": {
      "text/html": [
       "<div>\n",
       "<style scoped>\n",
       "    .dataframe tbody tr th:only-of-type {\n",
       "        vertical-align: middle;\n",
       "    }\n",
       "\n",
       "    .dataframe tbody tr th {\n",
       "        vertical-align: top;\n",
       "    }\n",
       "\n",
       "    .dataframe thead th {\n",
       "        text-align: right;\n",
       "    }\n",
       "</style>\n",
       "<table border=\"1\" class=\"dataframe\">\n",
       "  <thead>\n",
       "    <tr style=\"text-align: right;\">\n",
       "      <th></th>\n",
       "      <th>Species</th>\n",
       "      <th>Island</th>\n",
       "      <th>Culmen Length (mm)</th>\n",
       "      <th>Culmen Depth (mm)</th>\n",
       "      <th>Flipper Length (mm)</th>\n",
       "      <th>Body Mass (g)</th>\n",
       "      <th>Sex</th>\n",
       "      <th>Delta 15 N (o/oo)</th>\n",
       "      <th>Delta 13 C (o/oo)</th>\n",
       "    </tr>\n",
       "  </thead>\n",
       "  <tbody>\n",
       "    <tr>\n",
       "      <th>1</th>\n",
       "      <td>0</td>\n",
       "      <td>2</td>\n",
       "      <td>39.5</td>\n",
       "      <td>17.4</td>\n",
       "      <td>186.0</td>\n",
       "      <td>3800.0</td>\n",
       "      <td>0</td>\n",
       "      <td>8.94956</td>\n",
       "      <td>-24.69454</td>\n",
       "    </tr>\n",
       "    <tr>\n",
       "      <th>2</th>\n",
       "      <td>0</td>\n",
       "      <td>2</td>\n",
       "      <td>40.3</td>\n",
       "      <td>18.0</td>\n",
       "      <td>195.0</td>\n",
       "      <td>3250.0</td>\n",
       "      <td>0</td>\n",
       "      <td>8.36821</td>\n",
       "      <td>-25.33302</td>\n",
       "    </tr>\n",
       "    <tr>\n",
       "      <th>4</th>\n",
       "      <td>0</td>\n",
       "      <td>2</td>\n",
       "      <td>36.7</td>\n",
       "      <td>19.3</td>\n",
       "      <td>193.0</td>\n",
       "      <td>3450.0</td>\n",
       "      <td>0</td>\n",
       "      <td>8.76651</td>\n",
       "      <td>-25.32426</td>\n",
       "    </tr>\n",
       "    <tr>\n",
       "      <th>5</th>\n",
       "      <td>0</td>\n",
       "      <td>2</td>\n",
       "      <td>39.3</td>\n",
       "      <td>20.6</td>\n",
       "      <td>190.0</td>\n",
       "      <td>3650.0</td>\n",
       "      <td>1</td>\n",
       "      <td>8.66496</td>\n",
       "      <td>-25.29805</td>\n",
       "    </tr>\n",
       "    <tr>\n",
       "      <th>6</th>\n",
       "      <td>0</td>\n",
       "      <td>2</td>\n",
       "      <td>38.9</td>\n",
       "      <td>17.8</td>\n",
       "      <td>181.0</td>\n",
       "      <td>3625.0</td>\n",
       "      <td>0</td>\n",
       "      <td>9.18718</td>\n",
       "      <td>-25.21799</td>\n",
       "    </tr>\n",
       "  </tbody>\n",
       "</table>\n",
       "</div>"
      ],
      "text/plain": [
       "   Species  Island  Culmen Length (mm)  Culmen Depth (mm)  \\\n",
       "1        0       2                39.5               17.4   \n",
       "2        0       2                40.3               18.0   \n",
       "4        0       2                36.7               19.3   \n",
       "5        0       2                39.3               20.6   \n",
       "6        0       2                38.9               17.8   \n",
       "\n",
       "   Flipper Length (mm)  Body Mass (g)  Sex  Delta 15 N (o/oo)  \\\n",
       "1                186.0         3800.0    0            8.94956   \n",
       "2                195.0         3250.0    0            8.36821   \n",
       "4                193.0         3450.0    0            8.76651   \n",
       "5                190.0         3650.0    1            8.66496   \n",
       "6                181.0         3625.0    0            9.18718   \n",
       "\n",
       "   Delta 13 C (o/oo)  \n",
       "1          -24.69454  \n",
       "2          -25.33302  \n",
       "4          -25.32426  \n",
       "5          -25.29805  \n",
       "6          -25.21799  "
      ]
     },
     "execution_count": 160,
     "metadata": {},
     "output_type": "execute_result"
    }
   ],
   "source": [
    "#get rid of trivial column variables and ridding useless rows\n",
    "penguins = penguins.drop(['Comments', 'Sample Number', 'Date Egg', 'Clutch Completion', 'Individual ID'\n",
    "                          ,'studyName','Stage', 'Region'], axis =1) #get rid of trivial columns\n",
    "penguins = clean(penguins) #clean our penguins dataframe\n",
    "\n",
    "print(penguins.shape)\n",
    "\n",
    "penguins.head() #quick inspection\n"
   ]
  },
  {
   "cell_type": "code",
   "execution_count": 161,
   "metadata": {},
   "outputs": [],
   "source": [
    "#create our X and Y df from model backtesting and dev\n",
    "#from sklearn.feature_selection import SelectKBest\n",
    "#from sklearn.feature_selection import chi2\n",
    "\n",
    "\n",
    "#Create x and y dfs (covariates and labels, respectively)\n",
    "x = penguins.drop(\"Species\",axis = 1)\n",
    "y = penguins[\"Species\"]"
   ]
  },
  {
   "cell_type": "code",
   "execution_count": 162,
   "metadata": {
    "scrolled": true
   },
   "outputs": [
    {
     "data": {
      "text/html": [
       "<div>\n",
       "<style scoped>\n",
       "    .dataframe tbody tr th:only-of-type {\n",
       "        vertical-align: middle;\n",
       "    }\n",
       "\n",
       "    .dataframe tbody tr th {\n",
       "        vertical-align: top;\n",
       "    }\n",
       "\n",
       "    .dataframe thead th {\n",
       "        text-align: right;\n",
       "    }\n",
       "</style>\n",
       "<table border=\"1\" class=\"dataframe\">\n",
       "  <thead>\n",
       "    <tr style=\"text-align: right;\">\n",
       "      <th></th>\n",
       "      <th>Island</th>\n",
       "      <th>Culmen Length (mm)</th>\n",
       "      <th>Culmen Depth (mm)</th>\n",
       "      <th>Flipper Length (mm)</th>\n",
       "      <th>Body Mass (g)</th>\n",
       "      <th>Sex</th>\n",
       "      <th>Delta 15 N (o/oo)</th>\n",
       "      <th>Delta 13 C (o/oo)</th>\n",
       "    </tr>\n",
       "  </thead>\n",
       "  <tbody>\n",
       "    <tr>\n",
       "      <th>1</th>\n",
       "      <td>2</td>\n",
       "      <td>39.5</td>\n",
       "      <td>17.4</td>\n",
       "      <td>186.0</td>\n",
       "      <td>3800.0</td>\n",
       "      <td>0</td>\n",
       "      <td>8.94956</td>\n",
       "      <td>-24.69454</td>\n",
       "    </tr>\n",
       "    <tr>\n",
       "      <th>2</th>\n",
       "      <td>2</td>\n",
       "      <td>40.3</td>\n",
       "      <td>18.0</td>\n",
       "      <td>195.0</td>\n",
       "      <td>3250.0</td>\n",
       "      <td>0</td>\n",
       "      <td>8.36821</td>\n",
       "      <td>-25.33302</td>\n",
       "    </tr>\n",
       "    <tr>\n",
       "      <th>4</th>\n",
       "      <td>2</td>\n",
       "      <td>36.7</td>\n",
       "      <td>19.3</td>\n",
       "      <td>193.0</td>\n",
       "      <td>3450.0</td>\n",
       "      <td>0</td>\n",
       "      <td>8.76651</td>\n",
       "      <td>-25.32426</td>\n",
       "    </tr>\n",
       "    <tr>\n",
       "      <th>5</th>\n",
       "      <td>2</td>\n",
       "      <td>39.3</td>\n",
       "      <td>20.6</td>\n",
       "      <td>190.0</td>\n",
       "      <td>3650.0</td>\n",
       "      <td>1</td>\n",
       "      <td>8.66496</td>\n",
       "      <td>-25.29805</td>\n",
       "    </tr>\n",
       "    <tr>\n",
       "      <th>6</th>\n",
       "      <td>2</td>\n",
       "      <td>38.9</td>\n",
       "      <td>17.8</td>\n",
       "      <td>181.0</td>\n",
       "      <td>3625.0</td>\n",
       "      <td>0</td>\n",
       "      <td>9.18718</td>\n",
       "      <td>-25.21799</td>\n",
       "    </tr>\n",
       "  </tbody>\n",
       "</table>\n",
       "</div>"
      ],
      "text/plain": [
       "   Island  Culmen Length (mm)  Culmen Depth (mm)  Flipper Length (mm)  \\\n",
       "1       2                39.5               17.4                186.0   \n",
       "2       2                40.3               18.0                195.0   \n",
       "4       2                36.7               19.3                193.0   \n",
       "5       2                39.3               20.6                190.0   \n",
       "6       2                38.9               17.8                181.0   \n",
       "\n",
       "   Body Mass (g)  Sex  Delta 15 N (o/oo)  Delta 13 C (o/oo)  \n",
       "1         3800.0    0            8.94956          -24.69454  \n",
       "2         3250.0    0            8.36821          -25.33302  \n",
       "4         3450.0    0            8.76651          -25.32426  \n",
       "5         3650.0    1            8.66496          -25.29805  \n",
       "6         3625.0    0            9.18718          -25.21799  "
      ]
     },
     "execution_count": 162,
     "metadata": {},
     "output_type": "execute_result"
    }
   ],
   "source": [
    "x.head()"
   ]
  },
  {
   "cell_type": "markdown",
   "metadata": {},
   "source": [
    "### Split Data"
   ]
  },
  {
   "cell_type": "code",
   "execution_count": 165,
   "metadata": {},
   "outputs": [],
   "source": [
    "from sklearn.model_selection import train_test_split\n",
    "\n",
    "np.random.seed(1000) #set seed\n",
    "x_train, x_test, y_train, y_test = train_test_split(x,y, test_size = 0.25) #split 75 25 test"
   ]
  },
  {
   "cell_type": "code",
   "execution_count": 166,
   "metadata": {},
   "outputs": [
    {
     "data": {
      "text/plain": [
       "((243, 8), (243,))"
      ]
     },
     "execution_count": 166,
     "metadata": {},
     "output_type": "execute_result"
    }
   ],
   "source": [
    "x_train.shape, y_train.shape"
   ]
  },
  {
   "cell_type": "markdown",
   "metadata": {
    "scrolled": true
   },
   "source": [
    "### Systematic Feature Selection"
   ]
  },
  {
   "cell_type": "markdown",
   "metadata": {},
   "source": [
    "Essentially, I found the set of all subsets of 3 variables and tested performance with our training data. Then, I outputted the scores of each combination of 3 covariates and found the best 1 qualitative and 2 quantitative covariates to choose as my model's very own covariates."
   ]
  },
  {
   "cell_type": "code",
   "execution_count": 167,
   "metadata": {},
   "outputs": [],
   "source": [
    "#Load dependencies\n",
    "import sklearn\n",
    "from sklearn.linear_model import LogisticRegression\n",
    "from sklearn.model_selection import cross_val_score\n",
    "from sklearn import neural_network"
   ]
  },
  {
   "cell_type": "code",
   "execution_count": 168,
   "metadata": {},
   "outputs": [],
   "source": [
    "#Scores for CV found in discussion\n",
    "def CV_score(cols):\n",
    "    \"\"\"\n",
    "    Seen in class. \n",
    "    Trains and evaluates a model via cross-validation on the columns of the data with selected indices\n",
    "    \"\"\"\n",
    "    LR = LogisticRegression(max_iter=10000)\n",
    "    #clf = sklearn.neural_network.MLPClassifier()\n",
    "    #clf = MLPClassifier()\n",
    "    return cross_val_score(LR, x_train[cols], y_train, cv = 10).mean()    \n",
    "    \n",
    "    \n",
    "    "
   ]
  },
  {
   "cell_type": "markdown",
   "metadata": {},
   "source": [
    "#### Making feature selection more automated"
   ]
  },
  {
   "cell_type": "code",
   "execution_count": 169,
   "metadata": {},
   "outputs": [],
   "source": [
    "#First, we want to create all the subsets we possibly can have given a size n = 3 because we want 3 covariates\n",
    "import itertools\n",
    "from itertools import combinations, chain\n",
    "\n",
    "def subsets(arr,n):\n",
    "    \"\"\"\n",
    "    Finds total number of subsets for a given size and existing array using combinations from itertools library\n",
    "    \"\"\"\n",
    "    return list(combinations(arr,n))\n",
    "cov_subsets = subsets(x_train.columns,3)\n",
    "\n",
    "#----------------------------------------------------------------------------------------------------------------\n"
   ]
  },
  {
   "cell_type": "code",
   "execution_count": 170,
   "metadata": {},
   "outputs": [],
   "source": [
    "# Finding top CV Scores\n",
    "scores = []\n",
    "for i in range(0,len(cov_subsets)): #loop through all the combinations\n",
    "    scores.append(    (cov_subsets[i]   , CV_score(list(cov_subsets[i])))    ) \n",
    "    #add to our list of scores based on different column combos\n",
    "    "
   ]
  },
  {
   "cell_type": "code",
   "execution_count": 171,
   "metadata": {
    "scrolled": true
   },
   "outputs": [
    {
     "data": {
      "text/plain": [
       "[(('Culmen Length (mm)', 'Culmen Depth (mm)', 'Delta 13 C (o/oo)'),\n",
       "  0.9918333333333333),\n",
       " (('Culmen Length (mm)', 'Culmen Depth (mm)', 'Flipper Length (mm)'),\n",
       "  0.9876666666666667),\n",
       " (('Culmen Length (mm)', 'Culmen Depth (mm)', 'Delta 15 N (o/oo)'),\n",
       "  0.9876666666666667),\n",
       " (('Culmen Length (mm)', 'Culmen Depth (mm)', 'Body Mass (g)'),\n",
       "  0.9836666666666666),\n",
       " (('Culmen Length (mm)', 'Culmen Depth (mm)', 'Sex'), 0.9835),\n",
       " (('Island', 'Culmen Length (mm)', 'Culmen Depth (mm)'), 0.9755)]"
      ]
     },
     "execution_count": 171,
     "metadata": {},
     "output_type": "execute_result"
    }
   ],
   "source": [
    "sorted(scores, key=lambda x: x[1],reverse=True)[0:6] #sort by score high to low, show top 10\n",
    "#list top 10 best performing"
   ]
  },
  {
   "cell_type": "markdown",
   "metadata": {},
   "source": [
    "As you can see, we find that the best combination of column values that have 1 categorical and 2 continuous covariates is the combination of **Sex, Culmen Length, and Culmen Depth**.\n",
    "\n",
    "We will therefore use this for our logistic regression model."
   ]
  },
  {
   "cell_type": "markdown",
   "metadata": {},
   "source": [
    "### Training Model\n",
    "\n",
    "#### K-Fold Cross-Validation\n",
    "\n",
    "To prevent overfitting, I tested values from 0.01 to 1000, because increasing our C-value makes the model's complexity increase. In doing so, we become prone to being unable to generalize our model's performance.\n",
    "\n",
    "After performing a 10-fold Cross Validation, we find that our C value that fits best is `C=1`."
   ]
  },
  {
   "cell_type": "code",
   "execution_count": 176,
   "metadata": {},
   "outputs": [
    {
     "data": {
      "text/plain": [
       "[Text(0.5, 1.0, 'ML: Finding C Regularization Value: 1 with score: 0.9835')]"
      ]
     },
     "execution_count": 176,
     "metadata": {},
     "output_type": "execute_result"
    },
    {
     "data": {
      "image/png": "[encoded data removed]",
      "text/plain": [
       "<Figure size 1440x1440 with 1 Axes>"
      ]
     },
     "metadata": {
      "needs_background": "light"
     },
     "output_type": "display_data"
    }
   ],
   "source": [
    "import string\n",
    "cols = ['Culmen Length (mm)', 'Culmen Depth (mm)', 'Sex'] #selected covariates\n",
    "#printing out graph and finding best params\n",
    "fig, ax = plt.subplots(1, figsize = (20, 20))\n",
    "best_score = -1000000 #set abritrary number\n",
    "best_depth = 0\n",
    "arr = [.001,.01,0.5,1,10,100,1000]\n",
    "for i in arr:\n",
    "#for i in range(1,100):\n",
    "    lr = LogisticRegression(C=i, max_iter = 10000)\n",
    "    cv_score = sklearn.model_selection.cross_val_score(lr,x_train[cols], y_train, cv = 10).mean() #set kfold CV to 10\n",
    "    if best_score < cv_score:\n",
    "        best_score = cv_score\n",
    "        best_depth = i\n",
    "    ax.scatter(i,cv_score)\n",
    "    ax.set(xlabel = \"C Value\", ylabel = \"Cross Validation Score\")\n",
    "\n",
    "ax.set( title = \"ML: Finding C Regularization Value: \" +  str(best_depth) + \" with score: \" +  str(best_score))\n"
   ]
  },
  {
   "cell_type": "markdown",
   "metadata": {},
   "source": [
    "As you can see, we find that our best C regularization parameter is at `C = 1` for our training set. \n",
    "\n",
    "Therefore, we can test our model with this parameter with `max_iter = 10000`."
   ]
  },
  {
   "cell_type": "code",
   "execution_count": 177,
   "metadata": {},
   "outputs": [
    {
     "data": {
      "text/plain": [
       "1"
      ]
     },
     "execution_count": 177,
     "metadata": {},
     "output_type": "execute_result"
    }
   ],
   "source": [
    "best_depth #C = 1.0 is best!"
   ]
  },
  {
   "cell_type": "markdown",
   "metadata": {},
   "source": [
    "### Testing Model"
   ]
  },
  {
   "cell_type": "code",
   "execution_count": 178,
   "metadata": {},
   "outputs": [
    {
     "data": {
      "text/plain": [
       "LogisticRegression(C=1, max_iter=10000)"
      ]
     },
     "execution_count": 178,
     "metadata": {},
     "output_type": "execute_result"
    }
   ],
   "source": [
    "ideal_LR = LogisticRegression(C=best_depth, max_iter=10000)\n",
    "ideal_LR.fit(x_train[cols],y_train)"
   ]
  },
  {
   "cell_type": "code",
   "execution_count": 179,
   "metadata": {
    "scrolled": true
   },
   "outputs": [
    {
     "name": "stdout",
     "output_type": "stream",
     "text": [
      "Our score with the 3 best parameters and C = 1 is:  1.0\n"
     ]
    }
   ],
   "source": [
    "LR_score = ideal_LR.score(x_test[cols],y_test)\n",
    "print(\"Our score with the 3 best parameters and C = 1 is: \", LR_score)"
   ]
  },
  {
   "cell_type": "code",
   "execution_count": 211,
   "metadata": {},
   "outputs": [
    {
     "name": "stdout",
     "output_type": "stream",
     "text": [
      "0.9876543209876543\n",
      "1.0\n"
     ]
    }
   ],
   "source": [
    "print(ideal_LR.score(x_train[cols],y_train)) #training score\n",
    "print(LR_score) #test score\n"
   ]
  },
  {
   "cell_type": "markdown",
   "metadata": {},
   "source": [
    "### Evaluating our Results and Analyzing Mistakes\n",
    "\n",
    "We can analyze our results through a confusion matrix. We also need a prediction object as well.\n",
    "\n",
    "We see that we have a total of 0 missed/incorrect labels. Not bad!"
   ]
  },
  {
   "cell_type": "code",
   "execution_count": 2,
   "metadata": {},
   "outputs": [
    {
     "ename": "NameError",
     "evalue": "name 'ideal_LR' is not defined",
     "output_type": "error",
     "traceback": [
      "\u001b[0;31m---------------------------------------------------------------------------\u001b[0m",
      "\u001b[0;31mNameError\u001b[0m                                 Traceback (most recent call last)",
      "\u001b[0;32m<ipython-input-2-8a3e16d4a823>\u001b[0m in \u001b[0;36m<module>\u001b[0;34m\u001b[0m\n\u001b[1;32m      1\u001b[0m \u001b[0;32mfrom\u001b[0m \u001b[0msklearn\u001b[0m\u001b[0;34m.\u001b[0m\u001b[0mmetrics\u001b[0m \u001b[0;32mimport\u001b[0m \u001b[0mconfusion_matrix\u001b[0m\u001b[0;34m\u001b[0m\u001b[0;34m\u001b[0m\u001b[0m\n\u001b[1;32m      2\u001b[0m \u001b[0;34m\u001b[0m\u001b[0m\n\u001b[0;32m----> 3\u001b[0;31m \u001b[0my_predict\u001b[0m \u001b[0;34m=\u001b[0m \u001b[0mideal_LR\u001b[0m\u001b[0;34m.\u001b[0m\u001b[0mpredict\u001b[0m\u001b[0;34m(\u001b[0m\u001b[0mx_test\u001b[0m\u001b[0;34m[\u001b[0m\u001b[0mcols\u001b[0m\u001b[0;34m]\u001b[0m\u001b[0;34m)\u001b[0m \u001b[0;31m#define our prediction label array as y_predict\u001b[0m\u001b[0;34m\u001b[0m\u001b[0;34m\u001b[0m\u001b[0m\n\u001b[0m\u001b[1;32m      4\u001b[0m \u001b[0mconfusionMatrix\u001b[0m \u001b[0;34m=\u001b[0m \u001b[0mconfusion_matrix\u001b[0m\u001b[0;34m(\u001b[0m\u001b[0my_test\u001b[0m\u001b[0;34m,\u001b[0m \u001b[0my_predict\u001b[0m\u001b[0;34m)\u001b[0m \u001b[0;31m#initialize our confusion matrix\u001b[0m\u001b[0;34m\u001b[0m\u001b[0;34m\u001b[0m\u001b[0m\n\u001b[1;32m      5\u001b[0m \u001b[0;34m\u001b[0m\u001b[0m\n",
      "\u001b[0;31mNameError\u001b[0m: name 'ideal_LR' is not defined"
     ]
    }
   ],
   "source": [
    "from sklearn.metrics import confusion_matrix\n",
    "\n",
    "y_predict = ideal_LR.predict(x_test[cols]) #define our prediction label array as y_predict\n",
    "confusionMatrix = confusion_matrix(y_test, y_predict) #initialize our confusion matrix\n",
    "\n",
    "confusionMatrix"
   ]
  },
  {
   "cell_type": "code",
   "execution_count": 187,
   "metadata": {},
   "outputs": [
    {
     "name": "stdout",
     "output_type": "stream",
     "text": [
      "Series([], Name: Species, dtype: int64)\n",
      "[]\n"
     ]
    },
    {
     "data": {
      "text/html": [
       "<div>\n",
       "<style scoped>\n",
       "    .dataframe tbody tr th:only-of-type {\n",
       "        vertical-align: middle;\n",
       "    }\n",
       "\n",
       "    .dataframe tbody tr th {\n",
       "        vertical-align: top;\n",
       "    }\n",
       "\n",
       "    .dataframe thead th {\n",
       "        text-align: right;\n",
       "    }\n",
       "</style>\n",
       "<table border=\"1\" class=\"dataframe\">\n",
       "  <thead>\n",
       "    <tr style=\"text-align: right;\">\n",
       "      <th></th>\n",
       "      <th>Culmen Length (mm)</th>\n",
       "      <th>Culmen Depth (mm)</th>\n",
       "      <th>Sex</th>\n",
       "    </tr>\n",
       "  </thead>\n",
       "  <tbody>\n",
       "  </tbody>\n",
       "</table>\n",
       "</div>"
      ],
      "text/plain": [
       "Empty DataFrame\n",
       "Columns: [Culmen Length (mm), Culmen Depth (mm), Sex]\n",
       "Index: []"
      ]
     },
     "execution_count": 187,
     "metadata": {},
     "output_type": "execute_result"
    }
   ],
   "source": [
    "mistakes = (x_test[cols])[y_test != y_predict] #find mistakes\n",
    "mistaken_labels = y_test[y_test != y_predict] #find wrong labels\n",
    "mistaken_preds = y_predict[y_test != y_predict]\n",
    "\n",
    "print(mistaken_labels) #the actual labels\n",
    "print(mistaken_preds) #what we predicted\n",
    "\n",
    "mistakes.head()"
   ]
  },
  {
   "cell_type": "markdown",
   "metadata": {},
   "source": [
    "**REMARK: Perfect model? I think so! (Note that I could also increase my training set data as well as do imputed data for better generalization. However, I'll stick to this due to the late hour that it currently is (spent approx 2 hours doing the `plot_region()`function).**"
   ]
  },
  {
   "cell_type": "markdown",
   "metadata": {},
   "source": [
    "## Model Visualization and Statistics\n",
    "\n",
    "First, I wanted to provide a \"table 1\"-esque summary of the statistics we have, stratified first by sex and then by the species of penguin for the two categorical variables. Then, I print out the number of male and female penguins through `value_counts()` function as well (163 men, 161 female).\n",
    "\n",
    "After this, I used the live-lecture's `plot_region()` function and my discussion from last week to help me define a function that works alongside `group_by.apply()` to have 2 decision region plots from our training data."
   ]
  },
  {
   "cell_type": "code",
   "execution_count": 202,
   "metadata": {
    "scrolled": true
   },
   "outputs": [
    {
     "data": {
      "text/html": [
       "<div>\n",
       "<style scoped>\n",
       "    .dataframe tbody tr th:only-of-type {\n",
       "        vertical-align: middle;\n",
       "    }\n",
       "\n",
       "    .dataframe tbody tr th {\n",
       "        vertical-align: top;\n",
       "    }\n",
       "\n",
       "    .dataframe thead tr th {\n",
       "        text-align: left;\n",
       "    }\n",
       "\n",
       "    .dataframe thead tr:last-of-type th {\n",
       "        text-align: right;\n",
       "    }\n",
       "</style>\n",
       "<table border=\"1\" class=\"dataframe\">\n",
       "  <thead>\n",
       "    <tr>\n",
       "      <th></th>\n",
       "      <th></th>\n",
       "      <th colspan=\"3\" halign=\"left\">Culmen Length (mm)</th>\n",
       "      <th colspan=\"3\" halign=\"left\">Culmen Depth (mm)</th>\n",
       "    </tr>\n",
       "    <tr>\n",
       "      <th></th>\n",
       "      <th></th>\n",
       "      <th>mean</th>\n",
       "      <th>std</th>\n",
       "      <th>var</th>\n",
       "      <th>mean</th>\n",
       "      <th>std</th>\n",
       "      <th>var</th>\n",
       "    </tr>\n",
       "    <tr>\n",
       "      <th>Sex</th>\n",
       "      <th>Species</th>\n",
       "      <th></th>\n",
       "      <th></th>\n",
       "      <th></th>\n",
       "      <th></th>\n",
       "      <th></th>\n",
       "      <th></th>\n",
       "    </tr>\n",
       "  </thead>\n",
       "  <tbody>\n",
       "    <tr>\n",
       "      <th rowspan=\"3\" valign=\"top\">0</th>\n",
       "      <th>0</th>\n",
       "      <td>37.212676</td>\n",
       "      <td>2.003706</td>\n",
       "      <td>4.014837</td>\n",
       "      <td>17.619718</td>\n",
       "      <td>0.956126</td>\n",
       "      <td>0.914177</td>\n",
       "    </tr>\n",
       "    <tr>\n",
       "      <th>1</th>\n",
       "      <td>46.573529</td>\n",
       "      <td>3.108669</td>\n",
       "      <td>9.663824</td>\n",
       "      <td>17.588235</td>\n",
       "      <td>0.781128</td>\n",
       "      <td>0.610160</td>\n",
       "    </tr>\n",
       "    <tr>\n",
       "      <th>2</th>\n",
       "      <td>45.563793</td>\n",
       "      <td>2.051247</td>\n",
       "      <td>4.207613</td>\n",
       "      <td>14.237931</td>\n",
       "      <td>0.540249</td>\n",
       "      <td>0.291869</td>\n",
       "    </tr>\n",
       "    <tr>\n",
       "      <th rowspan=\"3\" valign=\"top\">1</th>\n",
       "      <th>0</th>\n",
       "      <td>40.427941</td>\n",
       "      <td>2.341568</td>\n",
       "      <td>5.482939</td>\n",
       "      <td>19.057353</td>\n",
       "      <td>1.019265</td>\n",
       "      <td>1.038900</td>\n",
       "    </tr>\n",
       "    <tr>\n",
       "      <th>1</th>\n",
       "      <td>51.069697</td>\n",
       "      <td>1.582222</td>\n",
       "      <td>2.503428</td>\n",
       "      <td>19.245455</td>\n",
       "      <td>0.771804</td>\n",
       "      <td>0.595682</td>\n",
       "    </tr>\n",
       "    <tr>\n",
       "      <th>2</th>\n",
       "      <td>49.510000</td>\n",
       "      <td>2.728674</td>\n",
       "      <td>7.445661</td>\n",
       "      <td>15.725000</td>\n",
       "      <td>0.745296</td>\n",
       "      <td>0.555466</td>\n",
       "    </tr>\n",
       "  </tbody>\n",
       "</table>\n",
       "</div>"
      ],
      "text/plain": [
       "            Culmen Length (mm)                     Culmen Depth (mm)  \\\n",
       "                          mean       std       var              mean   \n",
       "Sex Species                                                            \n",
       "0   0                37.212676  2.003706  4.014837         17.619718   \n",
       "    1                46.573529  3.108669  9.663824         17.588235   \n",
       "    2                45.563793  2.051247  4.207613         14.237931   \n",
       "1   0                40.427941  2.341568  5.482939         19.057353   \n",
       "    1                51.069697  1.582222  2.503428         19.245455   \n",
       "    2                49.510000  2.728674  7.445661         15.725000   \n",
       "\n",
       "                                 \n",
       "                  std       var  \n",
       "Sex Species                      \n",
       "0   0        0.956126  0.914177  \n",
       "    1        0.781128  0.610160  \n",
       "    2        0.540249  0.291869  \n",
       "1   0        1.019265  1.038900  \n",
       "    1        0.771804  0.595682  \n",
       "    2        0.745296  0.555466  "
      ]
     },
     "metadata": {},
     "output_type": "display_data"
    }
   ],
   "source": [
    "#First, create summary table: function used in one of discussion section\n",
    "\n",
    "def summary_stats(group_cols, value_cols):\n",
    "    \"\"\"\n",
    "    Returns mean, std, and variance by a grouping\n",
    "    group_cols = by what group\n",
    "    value_cols = what we are aggregating and grouping\n",
    "    \"\"\"\n",
    "    return penguins.groupby(group_cols)[value_cols].aggregate([np.mean,np.std,np.var])\n",
    "display(summary_stats([\"Sex\",\"Species\"], [\"Culmen Length (mm)\",\"Culmen Depth (mm)\"]))"
   ]
  },
  {
   "cell_type": "code",
   "execution_count": 224,
   "metadata": {},
   "outputs": [
    {
     "data": {
      "text/plain": [
       "0    163\n",
       "1    161\n",
       "Name: Sex, dtype: int64"
      ]
     },
     "execution_count": 224,
     "metadata": {},
     "output_type": "execute_result"
    }
   ],
   "source": [
    "penguins.Sex.value_counts()"
   ]
  },
  {
   "cell_type": "code",
   "execution_count": 203,
   "metadata": {},
   "outputs": [],
   "source": [
    "#Create dictionaries for the two categorical columns we need: our actual labels and a categorical variable\n",
    "#that turned into a binary numeric\n",
    "Sex    =  {\n",
    "    0: \"MALE\",\n",
    "    1: \"FEMALE\"\n",
    "}\n",
    "\n",
    "Species = {\n",
    "    0: \"Adelie\",\n",
    "    1: \"Chinstrap\",\n",
    "    2: \"Gentoo\"\n",
    "}"
   ]
  },
  {
   "cell_type": "code",
   "execution_count": 204,
   "metadata": {},
   "outputs": [
    {
     "data": {
      "text/plain": [
       "['Culmen Length (mm)', 'Culmen Depth (mm)', 'Sex']"
      ]
     },
     "execution_count": 204,
     "metadata": {},
     "output_type": "execute_result"
    }
   ],
   "source": [
    "cols"
   ]
  },
  {
   "cell_type": "markdown",
   "metadata": {},
   "source": [
    "#### Define our plot function"
   ]
  },
  {
   "cell_type": "code",
   "execution_count": 222,
   "metadata": {},
   "outputs": [],
   "source": [
    "def plot_regions(df):\n",
    "    \"\"\"\n",
    "    Plots the decision regions from a classifer \n",
    "    underneath the data in X and y. \n",
    "    c: logreg classifier\n",
    "    X: predictor variables\n",
    "    y: target variables\n",
    "    \"\"\"\n",
    "    c = LogisticRegression(C=best_depth, max_iter=10000)\n",
    "    # fit the model to the data\n",
    "    c.fit(x_train[cols], y_train)\n",
    "    \n",
    "    # for convenience, give names to the three \n",
    "    # columns of the data\n",
    "    x0 = x_train[cols]['Culmen Length (mm)']\n",
    "    x1 = x_train[cols]['Culmen Depth (mm)']\n",
    "    \n",
    "    #We want to group by Sex due to the Categorical variable being binary\n",
    "    \n",
    "\n",
    "\n",
    "    # for every x, y coordinate(xo, x1) to fill 3 planes.\n",
    "    # there are 251001 combinations of (xo,x1) coordinates.\n",
    "    #choosing these dimensions were discussed by me and my partner, Chris. We just arbitrarily choose 501\n",
    "    \n",
    "    grid = df[\"Sex\"].max()*np.ones(251001) #set our grid based on Sex covariate\n",
    "    \n",
    "    grid_x = np.linspace(x0.min(), x0.max(), 501) #define our other grid_x predicated on our Culmen length\n",
    "    grid_y = np.linspace(x1.min(), x1.max(), 501) #define our grid_y as Culmen depth's values\n",
    "    \n",
    "    xx, yy = np.meshgrid(grid_x, grid_y) #define meshgrid like the one in live discussion\n",
    "    \n",
    "    # extract model predictions, using the \n",
    "    # np.c_ attribute to join together the \n",
    "    # three parts of the grid. \n",
    "    # array.ravel() converts an multidimensional\n",
    "    # array into a 1d array, and we use array.reshape()\n",
    "    # to turn the resulting predictions p \n",
    "    # back into 2d\n",
    "    \n",
    "    p = c.predict(np.c_[xx.ravel(), yy.ravel(),grid])\n",
    "    p = p.reshape(xx.shape)\n",
    "    \n",
    "    # create the plot\n",
    "    # Each z layer(Sex) is plotted on a separate subplot\n",
    "    # create color dictionary for our 3 species, and designating them to a unique color\n",
    "    color = {\n",
    "        0 : \"steelblue\",\n",
    "        1 : \"orangered\",\n",
    "        2 : \"seagreen\"\n",
    "         }\n",
    "\n",
    "    \n",
    "    # used contour plot to visualize the predictions\n",
    "    ax[df[\"Sex\"].max()].contourf(xx, yy, p,alpha = .07)\n",
    "    \n",
    "    \n",
    "    # use scatter plot to plot the provided the data\n",
    "    ax[df[\"Sex\"].max()].scatter(df[\"Culmen Length (mm)\"],df[\"Culmen Depth (mm)\"],\n",
    "                                        color = color[df[\"Species\"].max()], label = Species[df[\"Species\"].max()]) \n",
    "    ax[df[\"Sex\"].max()].set(title = Sex[df[\"Sex\"].max()],xlabel = \"Culmen Length (mm)\",\n",
    "                                     ylabel = \"Culmen Depth (mm)\")\n",
    "    \n",
    "    ax[df[\"Sex\"].max()].legend() # add legend\n",
    "    "
   ]
  },
  {
   "cell_type": "code",
   "execution_count": 223,
   "metadata": {
    "scrolled": true
   },
   "outputs": [
    {
     "data": {
      "text/html": [
       "<div>\n",
       "<style scoped>\n",
       "    .dataframe tbody tr th:only-of-type {\n",
       "        vertical-align: middle;\n",
       "    }\n",
       "\n",
       "    .dataframe tbody tr th {\n",
       "        vertical-align: top;\n",
       "    }\n",
       "\n",
       "    .dataframe thead th {\n",
       "        text-align: right;\n",
       "    }\n",
       "</style>\n",
       "<table border=\"1\" class=\"dataframe\">\n",
       "  <thead>\n",
       "    <tr style=\"text-align: right;\">\n",
       "      <th></th>\n",
       "    </tr>\n",
       "  </thead>\n",
       "  <tbody>\n",
       "  </tbody>\n",
       "</table>\n",
       "</div>"
      ],
      "text/plain": [
       "Empty DataFrame\n",
       "Columns: []\n",
       "Index: []"
      ]
     },
     "execution_count": 223,
     "metadata": {},
     "output_type": "execute_result"
    },
    {
     "data": {
      "image/png": "[encoded data removed]",
      "text/plain": [
       "<Figure size 1440x360 with 2 Axes>"
      ]
     },
     "metadata": {
      "needs_background": "light"
     },
     "output_type": "display_data"
    }
   ],
   "source": [
    "fig,ax =plt.subplots(1,2,figsize =(20,5)) #define fig\n",
    "\n",
    "penguins.groupby([\"Sex\",\"Species\"]).apply(plot_regions) #use group_by() to split by sex, apply instead of looping"
   ]
  },
  {
   "cell_type": "markdown",
   "metadata": {},
   "source": [
    "Notice that in our training data, we have missed one Chinstrap and classified it as an Adelie for Males, and then Females we classified 3 incorrectly as well. These mistakes have occurred due to the clustering that we did based on our culmen depth and culmen length. The coordinate was classified incorrectly because it fell onto the region of a different penguin. \n",
    "\n",
    "**NOTE: However, in my test data set, I had a 100% accuracy, and I discovered 0 misclassifications!**"
   ]
  }
 ],
 "metadata": {
  "kernelspec": {
   "display_name": "Python 3",
   "language": "python",
   "name": "python3"
  },
  "language_info": {
   "codemirror_mode": {
    "name": "ipython",
    "version": 3
   },
   "file_extension": ".py",
   "mimetype": "text/x-python",
   "name": "python",
   "nbconvert_exporter": "python",
   "pygments_lexer": "ipython3",
   "version": "3.8.3"
  }
 },
 "nbformat": 4,
 "nbformat_minor": 4
}
